{
 "cells": [
  {
   "cell_type": "markdown",
   "metadata": {},
   "source": [
    "# <span style=\"color:red\">Santander Customer Satisfaction Project</span>"
   ]
  },
  {
   "cell_type": "markdown",
   "metadata": {},
   "source": [
    "<a class=\"anchor\" id=\"0.1\"></a>\n",
    "\n",
    "## **Table of Contents**\n",
    "\n",
    "3.\t[Exploratory Data Analysis](#3)\n"
   ]
  },
  {
   "cell_type": "markdown",
   "metadata": {},
   "source": [
    "### <span style=\"color:blue\"> Import packages</span>"
   ]
  },
  {
   "cell_type": "code",
   "execution_count": 1,
   "metadata": {},
   "outputs": [],
   "source": [
    "# Import packages\n",
    "\n",
    "import pandas as pd\n",
    "import numpy as np\n",
    "\n",
    "import warnings # current version of seaborn generates a bunch of warnings \n",
    "                # that we'll ignore\n",
    "warnings.filterwarnings(\"ignore\")\n",
    "\n",
    "import seaborn as sns\n",
    "sns.set(style=\"white\", color_codes=True)\n",
    "\n",
    "import matplotlib\n",
    "import matplotlib.pyplot as plt\n",
    "\n",
    "from matplotlib.pyplot import figure"
   ]
  },
  {
   "cell_type": "markdown",
   "metadata": {},
   "source": [
    "### <span style=\"color:blue\"> Load Datasets</span>"
   ]
  },
  {
   "cell_type": "code",
   "execution_count": 2,
   "metadata": {},
   "outputs": [
    {
     "data": {
      "text/html": [
       "<div>\n",
       "<style scoped>\n",
       "    .dataframe tbody tr th:only-of-type {\n",
       "        vertical-align: middle;\n",
       "    }\n",
       "\n",
       "    .dataframe tbody tr th {\n",
       "        vertical-align: top;\n",
       "    }\n",
       "\n",
       "    .dataframe thead th {\n",
       "        text-align: right;\n",
       "    }\n",
       "</style>\n",
       "<table border=\"1\" class=\"dataframe\">\n",
       "  <thead>\n",
       "    <tr style=\"text-align: right;\">\n",
       "      <th></th>\n",
       "      <th>var15</th>\n",
       "      <th>ind_var5</th>\n",
       "      <th>ind_var8_0</th>\n",
       "      <th>ind_var12_0</th>\n",
       "      <th>ind_var13_0</th>\n",
       "      <th>ind_var30</th>\n",
       "      <th>num_var30_0</th>\n",
       "      <th>num_var30</th>\n",
       "      <th>num_var42</th>\n",
       "      <th>saldo_var30</th>\n",
       "      <th>var36</th>\n",
       "      <th>TARGET</th>\n",
       "    </tr>\n",
       "  </thead>\n",
       "  <tbody>\n",
       "    <tr>\n",
       "      <th>0</th>\n",
       "      <td>23</td>\n",
       "      <td>0</td>\n",
       "      <td>0</td>\n",
       "      <td>0</td>\n",
       "      <td>0</td>\n",
       "      <td>0</td>\n",
       "      <td>3</td>\n",
       "      <td>0</td>\n",
       "      <td>0</td>\n",
       "      <td>0.00</td>\n",
       "      <td>99</td>\n",
       "      <td>0</td>\n",
       "    </tr>\n",
       "    <tr>\n",
       "      <th>1</th>\n",
       "      <td>34</td>\n",
       "      <td>0</td>\n",
       "      <td>0</td>\n",
       "      <td>0</td>\n",
       "      <td>1</td>\n",
       "      <td>1</td>\n",
       "      <td>6</td>\n",
       "      <td>3</td>\n",
       "      <td>0</td>\n",
       "      <td>300.00</td>\n",
       "      <td>3</td>\n",
       "      <td>0</td>\n",
       "    </tr>\n",
       "    <tr>\n",
       "      <th>2</th>\n",
       "      <td>23</td>\n",
       "      <td>1</td>\n",
       "      <td>0</td>\n",
       "      <td>0</td>\n",
       "      <td>0</td>\n",
       "      <td>1</td>\n",
       "      <td>3</td>\n",
       "      <td>3</td>\n",
       "      <td>3</td>\n",
       "      <td>3.00</td>\n",
       "      <td>99</td>\n",
       "      <td>0</td>\n",
       "    </tr>\n",
       "    <tr>\n",
       "      <th>3</th>\n",
       "      <td>37</td>\n",
       "      <td>1</td>\n",
       "      <td>0</td>\n",
       "      <td>0</td>\n",
       "      <td>0</td>\n",
       "      <td>1</td>\n",
       "      <td>3</td>\n",
       "      <td>3</td>\n",
       "      <td>3</td>\n",
       "      <td>70.62</td>\n",
       "      <td>2</td>\n",
       "      <td>0</td>\n",
       "    </tr>\n",
       "    <tr>\n",
       "      <th>4</th>\n",
       "      <td>39</td>\n",
       "      <td>0</td>\n",
       "      <td>0</td>\n",
       "      <td>1</td>\n",
       "      <td>0</td>\n",
       "      <td>1</td>\n",
       "      <td>6</td>\n",
       "      <td>3</td>\n",
       "      <td>3</td>\n",
       "      <td>135003.00</td>\n",
       "      <td>1</td>\n",
       "      <td>0</td>\n",
       "    </tr>\n",
       "  </tbody>\n",
       "</table>\n",
       "</div>"
      ],
      "text/plain": [
       "   var15  ind_var5  ind_var8_0  ind_var12_0  ind_var13_0  ind_var30  \\\n",
       "0     23         0           0            0            0          0   \n",
       "1     34         0           0            0            1          1   \n",
       "2     23         1           0            0            0          1   \n",
       "3     37         1           0            0            0          1   \n",
       "4     39         0           0            1            0          1   \n",
       "\n",
       "   num_var30_0  num_var30  num_var42  saldo_var30  var36  TARGET  \n",
       "0            3          0          0         0.00     99       0  \n",
       "1            6          3          0       300.00      3       0  \n",
       "2            3          3          3         3.00     99       0  \n",
       "3            3          3          3        70.62      2       0  \n",
       "4            6          3          3    135003.00      1       0  "
      ]
     },
     "execution_count": 2,
     "metadata": {},
     "output_type": "execute_result"
    }
   ],
   "source": [
    "train = pd.read_csv(\"X4.csv\")\n",
    "\n",
    "train.head()"
   ]
  },
  {
   "cell_type": "code",
   "execution_count": 3,
   "metadata": {},
   "outputs": [
    {
     "data": {
      "text/plain": [
       "(76020, 12)"
      ]
     },
     "execution_count": 3,
     "metadata": {},
     "output_type": "execute_result"
    }
   ],
   "source": [
    "train.shape"
   ]
  },
  {
   "cell_type": "markdown",
   "metadata": {},
   "source": [
    "# <span style=\"color:red\">**3. Exploratory Data Analysis**</span> <a class=\"anchor\" id=\"3\"></a>"
   ]
  },
  {
   "cell_type": "markdown",
   "metadata": {},
   "source": [
    "Jump to [Table of Contents](#0.1)"
   ]
  },
  {
   "cell_type": "code",
   "execution_count": 4,
   "metadata": {},
   "outputs": [
    {
     "data": {
      "text/html": [
       "<div>\n",
       "<style scoped>\n",
       "    .dataframe tbody tr th:only-of-type {\n",
       "        vertical-align: middle;\n",
       "    }\n",
       "\n",
       "    .dataframe tbody tr th {\n",
       "        vertical-align: top;\n",
       "    }\n",
       "\n",
       "    .dataframe thead th {\n",
       "        text-align: right;\n",
       "    }\n",
       "</style>\n",
       "<table border=\"1\" class=\"dataframe\">\n",
       "  <thead>\n",
       "    <tr style=\"text-align: right;\">\n",
       "      <th></th>\n",
       "      <th>var15</th>\n",
       "      <th>ind_var5</th>\n",
       "      <th>ind_var8_0</th>\n",
       "      <th>ind_var12_0</th>\n",
       "      <th>ind_var13_0</th>\n",
       "      <th>ind_var30</th>\n",
       "      <th>num_var30_0</th>\n",
       "      <th>num_var30</th>\n",
       "      <th>num_var42</th>\n",
       "      <th>saldo_var30</th>\n",
       "      <th>var36</th>\n",
       "      <th>TARGET</th>\n",
       "    </tr>\n",
       "  </thead>\n",
       "  <tbody>\n",
       "    <tr>\n",
       "      <th>0</th>\n",
       "      <td>23</td>\n",
       "      <td>0</td>\n",
       "      <td>0</td>\n",
       "      <td>0</td>\n",
       "      <td>0</td>\n",
       "      <td>0</td>\n",
       "      <td>3</td>\n",
       "      <td>0</td>\n",
       "      <td>0</td>\n",
       "      <td>0.0</td>\n",
       "      <td>99</td>\n",
       "      <td>0</td>\n",
       "    </tr>\n",
       "    <tr>\n",
       "      <th>1</th>\n",
       "      <td>34</td>\n",
       "      <td>0</td>\n",
       "      <td>0</td>\n",
       "      <td>0</td>\n",
       "      <td>1</td>\n",
       "      <td>1</td>\n",
       "      <td>6</td>\n",
       "      <td>3</td>\n",
       "      <td>0</td>\n",
       "      <td>300.0</td>\n",
       "      <td>3</td>\n",
       "      <td>0</td>\n",
       "    </tr>\n",
       "    <tr>\n",
       "      <th>2</th>\n",
       "      <td>23</td>\n",
       "      <td>1</td>\n",
       "      <td>0</td>\n",
       "      <td>0</td>\n",
       "      <td>0</td>\n",
       "      <td>1</td>\n",
       "      <td>3</td>\n",
       "      <td>3</td>\n",
       "      <td>3</td>\n",
       "      <td>3.0</td>\n",
       "      <td>99</td>\n",
       "      <td>0</td>\n",
       "    </tr>\n",
       "  </tbody>\n",
       "</table>\n",
       "</div>"
      ],
      "text/plain": [
       "   var15  ind_var5  ind_var8_0  ind_var12_0  ind_var13_0  ind_var30  \\\n",
       "0     23         0           0            0            0          0   \n",
       "1     34         0           0            0            1          1   \n",
       "2     23         1           0            0            0          1   \n",
       "\n",
       "   num_var30_0  num_var30  num_var42  saldo_var30  var36  TARGET  \n",
       "0            3          0          0          0.0     99       0  \n",
       "1            6          3          0        300.0      3       0  \n",
       "2            3          3          3          3.0     99       0  "
      ]
     },
     "execution_count": 4,
     "metadata": {},
     "output_type": "execute_result"
    }
   ],
   "source": [
    "train.head(3)"
   ]
  },
  {
   "cell_type": "code",
   "execution_count": 5,
   "metadata": {},
   "outputs": [
    {
     "data": {
      "text/html": [
       "<div>\n",
       "<style scoped>\n",
       "    .dataframe tbody tr th:only-of-type {\n",
       "        vertical-align: middle;\n",
       "    }\n",
       "\n",
       "    .dataframe tbody tr th {\n",
       "        vertical-align: top;\n",
       "    }\n",
       "\n",
       "    .dataframe thead th {\n",
       "        text-align: right;\n",
       "    }\n",
       "</style>\n",
       "<table border=\"1\" class=\"dataframe\">\n",
       "  <thead>\n",
       "    <tr style=\"text-align: right;\">\n",
       "      <th></th>\n",
       "      <th>var15</th>\n",
       "      <th>ind_var5</th>\n",
       "      <th>ind_var8_0</th>\n",
       "      <th>ind_var12_0</th>\n",
       "      <th>ind_var13_0</th>\n",
       "      <th>ind_var30</th>\n",
       "      <th>num_var30_0</th>\n",
       "      <th>num_var30</th>\n",
       "      <th>num_var42</th>\n",
       "      <th>saldo_var30</th>\n",
       "      <th>var36</th>\n",
       "      <th>TARGET</th>\n",
       "      <th>count</th>\n",
       "    </tr>\n",
       "  </thead>\n",
       "  <tbody>\n",
       "    <tr>\n",
       "      <th>0</th>\n",
       "      <td>23</td>\n",
       "      <td>0</td>\n",
       "      <td>0</td>\n",
       "      <td>0</td>\n",
       "      <td>0</td>\n",
       "      <td>0</td>\n",
       "      <td>3</td>\n",
       "      <td>0</td>\n",
       "      <td>0</td>\n",
       "      <td>0.0</td>\n",
       "      <td>99</td>\n",
       "      <td>0</td>\n",
       "      <td>1</td>\n",
       "    </tr>\n",
       "    <tr>\n",
       "      <th>1</th>\n",
       "      <td>34</td>\n",
       "      <td>0</td>\n",
       "      <td>0</td>\n",
       "      <td>0</td>\n",
       "      <td>1</td>\n",
       "      <td>1</td>\n",
       "      <td>6</td>\n",
       "      <td>3</td>\n",
       "      <td>0</td>\n",
       "      <td>300.0</td>\n",
       "      <td>3</td>\n",
       "      <td>0</td>\n",
       "      <td>1</td>\n",
       "    </tr>\n",
       "    <tr>\n",
       "      <th>2</th>\n",
       "      <td>23</td>\n",
       "      <td>1</td>\n",
       "      <td>0</td>\n",
       "      <td>0</td>\n",
       "      <td>0</td>\n",
       "      <td>1</td>\n",
       "      <td>3</td>\n",
       "      <td>3</td>\n",
       "      <td>3</td>\n",
       "      <td>3.0</td>\n",
       "      <td>99</td>\n",
       "      <td>0</td>\n",
       "      <td>1</td>\n",
       "    </tr>\n",
       "  </tbody>\n",
       "</table>\n",
       "</div>"
      ],
      "text/plain": [
       "   var15  ind_var5  ind_var8_0  ind_var12_0  ind_var13_0  ind_var30  \\\n",
       "0     23         0           0            0            0          0   \n",
       "1     34         0           0            0            1          1   \n",
       "2     23         1           0            0            0          1   \n",
       "\n",
       "   num_var30_0  num_var30  num_var42  saldo_var30  var36  TARGET  count  \n",
       "0            3          0          0          0.0     99       0      1  \n",
       "1            6          3          0        300.0      3       0      1  \n",
       "2            3          3          3          3.0     99       0      1  "
      ]
     },
     "execution_count": 5,
     "metadata": {},
     "output_type": "execute_result"
    }
   ],
   "source": [
    "# we add and extra column with a value 1. These column help us to count group when we use groupbu\n",
    "\n",
    "train['count'] = 1\n",
    "train.head(3)"
   ]
  },
  {
   "cell_type": "code",
   "execution_count": 6,
   "metadata": {},
   "outputs": [
    {
     "data": {
      "text/plain": [
       "['var15',\n",
       " 'ind_var5',\n",
       " 'ind_var8_0',\n",
       " 'ind_var12_0',\n",
       " 'ind_var13_0',\n",
       " 'ind_var30',\n",
       " 'num_var30_0',\n",
       " 'num_var30',\n",
       " 'num_var42',\n",
       " 'saldo_var30',\n",
       " 'var36']"
      ]
     },
     "execution_count": 6,
     "metadata": {},
     "output_type": "execute_result"
    }
   ],
   "source": [
    "features = train.columns.to_list()[0:-2]\n",
    "features"
   ]
  },
  {
   "cell_type": "markdown",
   "metadata": {},
   "source": [
    "## <span style=\"color:blue\"> 1. var15  ( Age of the customer )</span>"
   ]
  },
  {
   "cell_type": "code",
   "execution_count": 7,
   "metadata": {},
   "outputs": [
    {
     "name": "stdout",
     "output_type": "stream",
     "text": [
      "1.feature:  var15\n"
     ]
    }
   ],
   "source": [
    "print(\"1.feature: \", features[0])"
   ]
  },
  {
   "cell_type": "code",
   "execution_count": 8,
   "metadata": {},
   "outputs": [
    {
     "name": "stdout",
     "output_type": "stream",
     "text": [
      "number of unique values:  100\n"
     ]
    }
   ],
   "source": [
    "print(\"number of unique values: \",train.var15.nunique())"
   ]
  },
  {
   "cell_type": "markdown",
   "metadata": {},
   "source": [
    "According to [a Kaggle form post](https://www.kaggle.com/c/santander-customer-satisfaction/forums/t/19291/data-dictionary/110414#post110414)\n",
    "var15 is the age of the customer."
   ]
  },
  {
   "cell_type": "code",
   "execution_count": 9,
   "metadata": {},
   "outputs": [
    {
     "data": {
      "image/png": "[encoded data removed]",
      "text/plain": [
       "<Figure size 432x288 with 1 Axes>"
      ]
     },
     "metadata": {
      "needs_background": "light"
     },
     "output_type": "display_data"
    }
   ],
   "source": [
    "# plot the histogram\n",
    "\n",
    "train['var15'].hist(bins=50);"
   ]
  },
  {
   "cell_type": "code",
   "execution_count": 10,
   "metadata": {},
   "outputs": [],
   "source": [
    "mkdir plots"
   ]
  },
  {
   "cell_type": "code",
   "execution_count": 11,
   "metadata": {},
   "outputs": [
    {
     "data": {
      "image/png": "[encoded data removed]",
      "text/plain": [
       "<Figure size 288x288 with 1 Axes>"
      ]
     },
     "metadata": {
      "needs_background": "light"
     },
     "output_type": "display_data"
    }
   ],
   "source": [
    "# Let's look at the density of the age of happy/unhappy customers\n",
    "%matplotlib inline\n",
    "matplotlib.use('Agg')\n",
    "sns.FacetGrid(train, hue=\"TARGET\", size=4).map(sns.kdeplot, \"var15\")\n",
    "\n",
    "plt.title('Happy/unhappy customers vs Age',fontsize=15);\n",
    "plt.legend(loc='upper right');\n",
    "plt.grid(axis='y', alpha=0.75)\n",
    "plt.savefig('plots/var15.png', dpi=100, bbox_inches='tight')\n"
   ]
  },
  {
   "cell_type": "markdown",
   "metadata": {},
   "source": [
    "We see that young people are mostly happy. I am thinking two reasons for this:\n",
    "\n",
    " . Young people have less life experience so they are happy with everything\n",
    " \n",
    " . It is difficult to make happy/satisfied older people who have more experience than youngers "
   ]
  },
  {
   "cell_type": "markdown",
   "metadata": {},
   "source": [
    "## <span style=\"color:blue\"> 2. ind_var5</span>"
   ]
  },
  {
   "cell_type": "code",
   "execution_count": 12,
   "metadata": {},
   "outputs": [
    {
     "name": "stdout",
     "output_type": "stream",
     "text": [
      "2.feature:  ind_var5\n"
     ]
    }
   ],
   "source": [
    "print(\"2.feature: \", features[1])"
   ]
  },
  {
   "cell_type": "code",
   "execution_count": 13,
   "metadata": {},
   "outputs": [
    {
     "name": "stdout",
     "output_type": "stream",
     "text": [
      "number of unique values:  2\n"
     ]
    }
   ],
   "source": [
    "print(\"number of unique values: \", train['ind_var5'].nunique())"
   ]
  },
  {
   "cell_type": "code",
   "execution_count": 14,
   "metadata": {},
   "outputs": [],
   "source": [
    "a = train[['ind_var5','TARGET','count']].groupby(['ind_var5','TARGET']).count()\n",
    "\n",
    "a['ratio'] = 0\n",
    "a.loc[(0,0),'ratio'] = a.loc[(0,0),'count'] / (a.loc[(0,0),'count']+a.loc[(0,1),'count'])\n",
    "a.loc[(0,1),'ratio'] = a.loc[(0,1),'count'] / (a.loc[(0,0),'count']+a.loc[(0,1),'count'])\n",
    "\n",
    "a.loc[(1,0),'ratio'] = a.loc[(1,0),'count'] / (a.loc[(1,0),'count']+a.loc[(1,1),'count'])\n",
    "a.loc[(1,1),'ratio'] = a.loc[(1,1),'count'] / (a.loc[(1,0),'count']+a.loc[(1,1),'count'])"
   ]
  },
  {
   "cell_type": "code",
   "execution_count": 15,
   "metadata": {},
   "outputs": [
    {
     "data": {
      "text/html": [
       "<div>\n",
       "<style scoped>\n",
       "    .dataframe tbody tr th:only-of-type {\n",
       "        vertical-align: middle;\n",
       "    }\n",
       "\n",
       "    .dataframe tbody tr th {\n",
       "        vertical-align: top;\n",
       "    }\n",
       "\n",
       "    .dataframe thead th {\n",
       "        text-align: right;\n",
       "    }\n",
       "</style>\n",
       "<table border=\"1\" class=\"dataframe\">\n",
       "  <thead>\n",
       "    <tr style=\"text-align: right;\">\n",
       "      <th></th>\n",
       "      <th></th>\n",
       "      <th>count</th>\n",
       "      <th>ratio</th>\n",
       "    </tr>\n",
       "    <tr>\n",
       "      <th>ind_var5</th>\n",
       "      <th>TARGET</th>\n",
       "      <th></th>\n",
       "      <th></th>\n",
       "    </tr>\n",
       "  </thead>\n",
       "  <tbody>\n",
       "    <tr>\n",
       "      <th rowspan=\"2\" valign=\"top\">0</th>\n",
       "      <th>0</th>\n",
       "      <td>23602</td>\n",
       "      <td>0.923360</td>\n",
       "    </tr>\n",
       "    <tr>\n",
       "      <th>1</th>\n",
       "      <td>1959</td>\n",
       "      <td>0.076640</td>\n",
       "    </tr>\n",
       "    <tr>\n",
       "      <th rowspan=\"2\" valign=\"top\">1</th>\n",
       "      <th>0</th>\n",
       "      <td>49410</td>\n",
       "      <td>0.979211</td>\n",
       "    </tr>\n",
       "    <tr>\n",
       "      <th>1</th>\n",
       "      <td>1049</td>\n",
       "      <td>0.020789</td>\n",
       "    </tr>\n",
       "  </tbody>\n",
       "</table>\n",
       "</div>"
      ],
      "text/plain": [
       "                 count     ratio\n",
       "ind_var5 TARGET                 \n",
       "0        0       23602  0.923360\n",
       "         1        1959  0.076640\n",
       "1        0       49410  0.979211\n",
       "         1        1049  0.020789"
      ]
     },
     "execution_count": 15,
     "metadata": {},
     "output_type": "execute_result"
    }
   ],
   "source": [
    "# Ratio Matrix\n",
    "\n",
    "a"
   ]
  },
  {
   "cell_type": "markdown",
   "metadata": {},
   "source": [
    "The ratio of happy and unhappy customers are 96% and 4%. \n",
    "\n",
    "If the found ratios are equal to 1, that number of target will be predicted 100% confidence.\n",
    "\n",
    "if the target=0 ratio is different than 96% it will help us to predict target\n",
    "\n",
    "if the target=1 ratio is different than 4% will help us to predict target\n"
   ]
  },
  {
   "cell_type": "code",
   "execution_count": 16,
   "metadata": {},
   "outputs": [
    {
     "name": "stdout",
     "output_type": "stream",
     "text": [
      " P(Target=1|ind_var5=0):  0.077\n",
      " P(Target=1|ind_var5=1):  0.021\n",
      "ratio:  3.7\n"
     ]
    }
   ],
   "source": [
    "# Look at conditional probabilty\n",
    "\n",
    "print(\" P(Target=1|ind_var5=0): \", a.loc[(0,1),'ratio'].round(3))\n",
    "print(\" P(Target=1|ind_var5=1): \", a.loc[(1,1),'ratio'].round(3))\n",
    "\n",
    "print(\"ratio: \" , (a.loc[(0,1),'ratio']/a.loc[(1,1),'ratio']).round(1))"
   ]
  },
  {
   "cell_type": "markdown",
   "metadata": {},
   "source": [
    "The customer unsatisfaction is 3.3 times more likely when ind_var5 is absent (obtained from P(Target=1|ind_var5=0) / P(Target=1|ind_var5=1) = 7.7/2.1 = 3.7)"
   ]
  },
  {
   "cell_type": "code",
   "execution_count": null,
   "metadata": {},
   "outputs": [],
   "source": []
  },
  {
   "cell_type": "code",
   "execution_count": 17,
   "metadata": {},
   "outputs": [
    {
     "name": "stdout",
     "output_type": "stream",
     "text": [
      "ind_var5      0      1\n",
      "TARGET                \n",
      "0         23602  49410\n",
      "1          1959   1049\n"
     ]
    },
    {
     "data": {
      "image/png": "[encoded data removed]",
      "text/plain": [
       "<Figure size 360x288 with 1 Axes>"
      ]
     },
     "metadata": {
      "needs_background": "light"
     },
     "output_type": "display_data"
    }
   ],
   "source": [
    "the_feature = 'ind_var5'\n",
    "\n",
    "# Using Crosstab\n",
    "\n",
    "aa = train[['ind_var5','TARGET','count']]\n",
    "\n",
    "print(pd.crosstab(aa.TARGET,aa.ind_var5))\n",
    "\n",
    "\n",
    "#Binary Distribution Histogram\n",
    "\n",
    "plt.figure(figsize=[5,4])\n",
    "\n",
    "plt.hist([train[train.TARGET==0][the_feature],\n",
    "          train[train.TARGET==1][the_feature]], \n",
    "          bins=[-.5,.5,.5,1.5], \n",
    "          ec=\"k\",\n",
    "          label=('happy','unhappy'))\n",
    "\n",
    "plt.xticks((0,1))\n",
    "plt.grid(axis='y', alpha=0.75)\n",
    "\n",
    "plt.xlabel('ind_var5',fontsize=15)\n",
    "plt.ylabel('count',fontsize=15)\n",
    "\n",
    "plt.title('Binary Distribution Histogram',fontsize=15)\n",
    "plt.legend(loc='upper right')\n",
    "\n",
    "plt.grid(axis='y', alpha=0.75)\n",
    "\n",
    "plt.savefig('plots/ind_var5.png', dpi=100, bbox_inches='tight')\n",
    "\n",
    "plt.show()"
   ]
  },
  {
   "cell_type": "code",
   "execution_count": 18,
   "metadata": {},
   "outputs": [
    {
     "data": {
      "text/plain": [
       "Text(0, 0.5, 'count')"
      ]
     },
     "execution_count": 18,
     "metadata": {},
     "output_type": "execute_result"
    },
    {
     "data": {
      "image/png": "[encoded data removed]",
      "text/plain": [
       "<Figure size 432x288 with 1 Axes>"
      ]
     },
     "metadata": {
      "needs_background": "light"
     },
     "output_type": "display_data"
    }
   ],
   "source": [
    "# Plotting Using Crosstab\n",
    "\n",
    "%matplotlib inline\n",
    "\n",
    "aa = train[['ind_var5','TARGET','count']]\n",
    "\n",
    "pd.crosstab(train.ind_var5,train.TARGET).plot(kind='bar')\n",
    "\n",
    "plt.title('Binary Distribution Histogram',fontsize=15)\n",
    "\n",
    "plt.xlabel('ind_var5',fontsize=15)\n",
    "plt.ylabel('count',fontsize=15)\n"
   ]
  },
  {
   "cell_type": "markdown",
   "metadata": {},
   "source": [
    "ind_var5 feature definitely help us"
   ]
  },
  {
   "cell_type": "markdown",
   "metadata": {},
   "source": [
    "## <span style=\"color:blue\"> **3. ind_var8_0** </span>"
   ]
  },
  {
   "cell_type": "code",
   "execution_count": 19,
   "metadata": {},
   "outputs": [
    {
     "name": "stdout",
     "output_type": "stream",
     "text": [
      "3.feature:  ind_var8_0\n"
     ]
    }
   ],
   "source": [
    "print(\"3.feature: \", features[2])"
   ]
  },
  {
   "cell_type": "code",
   "execution_count": 20,
   "metadata": {},
   "outputs": [
    {
     "name": "stdout",
     "output_type": "stream",
     "text": [
      "number of unique values:  2\n"
     ]
    },
    {
     "data": {
      "text/html": [
       "<div>\n",
       "<style scoped>\n",
       "    .dataframe tbody tr th:only-of-type {\n",
       "        vertical-align: middle;\n",
       "    }\n",
       "\n",
       "    .dataframe tbody tr th {\n",
       "        vertical-align: top;\n",
       "    }\n",
       "\n",
       "    .dataframe thead th {\n",
       "        text-align: right;\n",
       "    }\n",
       "</style>\n",
       "<table border=\"1\" class=\"dataframe\">\n",
       "  <thead>\n",
       "    <tr style=\"text-align: right;\">\n",
       "      <th></th>\n",
       "      <th></th>\n",
       "      <th>count</th>\n",
       "      <th>ratio</th>\n",
       "    </tr>\n",
       "    <tr>\n",
       "      <th>ind_var8_0</th>\n",
       "      <th>TARGET</th>\n",
       "      <th></th>\n",
       "      <th></th>\n",
       "    </tr>\n",
       "  </thead>\n",
       "  <tbody>\n",
       "    <tr>\n",
       "      <th rowspan=\"2\" valign=\"top\">0</th>\n",
       "      <th>0</th>\n",
       "      <td>70738</td>\n",
       "      <td>0.962108</td>\n",
       "    </tr>\n",
       "    <tr>\n",
       "      <th>1</th>\n",
       "      <td>2786</td>\n",
       "      <td>0.037892</td>\n",
       "    </tr>\n",
       "    <tr>\n",
       "      <th rowspan=\"2\" valign=\"top\">1</th>\n",
       "      <th>0</th>\n",
       "      <td>2274</td>\n",
       "      <td>0.911058</td>\n",
       "    </tr>\n",
       "    <tr>\n",
       "      <th>1</th>\n",
       "      <td>222</td>\n",
       "      <td>0.088942</td>\n",
       "    </tr>\n",
       "  </tbody>\n",
       "</table>\n",
       "</div>"
      ],
      "text/plain": [
       "                   count     ratio\n",
       "ind_var8_0 TARGET                 \n",
       "0          0       70738  0.962108\n",
       "           1        2786  0.037892\n",
       "1          0        2274  0.911058\n",
       "           1         222  0.088942"
      ]
     },
     "execution_count": 20,
     "metadata": {},
     "output_type": "execute_result"
    }
   ],
   "source": [
    "print(\"number of unique values: \", train.ind_var8_0.nunique())\n",
    "\n",
    "a = train[['ind_var8_0','TARGET','count']].groupby(['ind_var8_0','TARGET']).count()\n",
    "a['ratio'] = 0\n",
    "a.loc[(0,0),'ratio'] = a.loc[(0,0),'count'] / (a.loc[(0,0),'count']+a.loc[(0,1),'count'])\n",
    "a.loc[(0,1),'ratio'] = a.loc[(0,1),'count'] / (a.loc[(0,0),'count']+a.loc[(0,1),'count'])\n",
    "\n",
    "a.loc[(1,0),'ratio'] = a.loc[(1,0),'count'] / (a.loc[(1,0),'count']+a.loc[(1,1),'count'])\n",
    "a.loc[(1,1),'ratio'] = a.loc[(1,1),'count'] / (a.loc[(1,0),'count']+a.loc[(1,1),'count'])\n",
    "a"
   ]
  },
  {
   "cell_type": "code",
   "execution_count": 21,
   "metadata": {},
   "outputs": [
    {
     "name": "stdout",
     "output_type": "stream",
     "text": [
      " P(Target=1|ind_var8_0=0):  0.038\n",
      " P(Target=1|ind_var8_0=1):  0.089\n",
      "ratio:  0.4\n"
     ]
    }
   ],
   "source": [
    "# Look at conditional probabilty\n",
    "\n",
    "print(\" P(Target=1|ind_var8_0=0): \", a.loc[(0,1),'ratio'].round(3))\n",
    "print(\" P(Target=1|ind_var8_0=1): \", a.loc[(1,1),'ratio'].round(3))\n",
    "print(\"ratio: \" , (a.loc[(0,1),'ratio']/a.loc[(1,1),'ratio']).round(1))"
   ]
  },
  {
   "cell_type": "markdown",
   "metadata": {},
   "source": [
    "#### The customer unsatisfaction is 0.4 times more likely when ind_var8_0 is absent (obtained from P(Target=1|ind_var8_0=0) / P(Target=1|ind_var8_0=1) = 0.4)"
   ]
  },
  {
   "cell_type": "code",
   "execution_count": 22,
   "metadata": {},
   "outputs": [
    {
     "name": "stdout",
     "output_type": "stream",
     "text": [
      "ind_var8_0      0     1\n",
      "TARGET                 \n",
      "0           70738  2274\n",
      "1            2786   222\n"
     ]
    },
    {
     "data": {
      "image/png": "[encoded data removed]",
      "text/plain": [
       "<Figure size 360x288 with 1 Axes>"
      ]
     },
     "metadata": {
      "needs_background": "light"
     },
     "output_type": "display_data"
    }
   ],
   "source": [
    "the_feature = 'ind_var8_0'\n",
    "\n",
    "# Using Crosstab\n",
    "\n",
    "aa = train[[the_feature,'TARGET','count']]\n",
    "\n",
    "print(pd.crosstab(aa.TARGET,aa[the_feature]))\n",
    "\n",
    "\n",
    "#Binary Distribution Histogram\n",
    "\n",
    "plt.figure(figsize=[5,4])\n",
    "\n",
    "plt.hist([train[train.TARGET==0][the_feature],\n",
    "          train[train.TARGET==1][the_feature]], \n",
    "          bins=[-.5,.5,.5,1.5], \n",
    "          ec=\"k\",\n",
    "          label=('happy','unhappy'))\n",
    "\n",
    "plt.xticks((0,1))\n",
    "plt.grid(axis='y', alpha=0.75)\n",
    "\n",
    "plt.xlabel('ind_var8_0',fontsize=15)\n",
    "plt.ylabel('count',fontsize=15)\n",
    "\n",
    "plt.title('Binary Distribution Histogram',fontsize=15)\n",
    "plt.legend(loc='upper right')\n",
    "\n",
    "plt.grid(axis='y', alpha=0.75)\n",
    "\n",
    "plt.savefig('plots/ind_var8_0.png', dpi=100, bbox_inches='tight')\n",
    "\n",
    "plt.show()"
   ]
  },
  {
   "cell_type": "markdown",
   "metadata": {},
   "source": [
    "## <span style=\"color:blue\"> 4. ind_var12_0</span>"
   ]
  },
  {
   "cell_type": "code",
   "execution_count": 23,
   "metadata": {},
   "outputs": [
    {
     "name": "stdout",
     "output_type": "stream",
     "text": [
      "4.feature:  ind_var12_0\n"
     ]
    }
   ],
   "source": [
    "print(\"4.feature: \", features[3])"
   ]
  },
  {
   "cell_type": "code",
   "execution_count": 24,
   "metadata": {},
   "outputs": [
    {
     "name": "stdout",
     "output_type": "stream",
     "text": [
      "number of unique values:  2\n"
     ]
    },
    {
     "data": {
      "text/html": [
       "<div>\n",
       "<style scoped>\n",
       "    .dataframe tbody tr th:only-of-type {\n",
       "        vertical-align: middle;\n",
       "    }\n",
       "\n",
       "    .dataframe tbody tr th {\n",
       "        vertical-align: top;\n",
       "    }\n",
       "\n",
       "    .dataframe thead th {\n",
       "        text-align: right;\n",
       "    }\n",
       "</style>\n",
       "<table border=\"1\" class=\"dataframe\">\n",
       "  <thead>\n",
       "    <tr style=\"text-align: right;\">\n",
       "      <th></th>\n",
       "      <th></th>\n",
       "      <th>count</th>\n",
       "      <th>ratio</th>\n",
       "    </tr>\n",
       "    <tr>\n",
       "      <th>ind_var12_0</th>\n",
       "      <th>TARGET</th>\n",
       "      <th></th>\n",
       "      <th></th>\n",
       "    </tr>\n",
       "  </thead>\n",
       "  <tbody>\n",
       "    <tr>\n",
       "      <th rowspan=\"2\" valign=\"top\">0</th>\n",
       "      <th>0</th>\n",
       "      <td>67940</td>\n",
       "      <td>0.958427</td>\n",
       "    </tr>\n",
       "    <tr>\n",
       "      <th>1</th>\n",
       "      <td>2947</td>\n",
       "      <td>0.041573</td>\n",
       "    </tr>\n",
       "    <tr>\n",
       "      <th rowspan=\"2\" valign=\"top\">1</th>\n",
       "      <th>0</th>\n",
       "      <td>5072</td>\n",
       "      <td>0.988116</td>\n",
       "    </tr>\n",
       "    <tr>\n",
       "      <th>1</th>\n",
       "      <td>61</td>\n",
       "      <td>0.011884</td>\n",
       "    </tr>\n",
       "  </tbody>\n",
       "</table>\n",
       "</div>"
      ],
      "text/plain": [
       "                    count     ratio\n",
       "ind_var12_0 TARGET                 \n",
       "0           0       67940  0.958427\n",
       "            1        2947  0.041573\n",
       "1           0        5072  0.988116\n",
       "            1          61  0.011884"
      ]
     },
     "execution_count": 24,
     "metadata": {},
     "output_type": "execute_result"
    }
   ],
   "source": [
    "print(\"number of unique values: \", train.ind_var12_0.nunique())\n",
    "\n",
    "a = train[['ind_var12_0','TARGET','count']].groupby(['ind_var12_0','TARGET']).count()\n",
    "a['ratio'] = 0\n",
    "a.loc[(0,0),'ratio'] = a.loc[(0,0),'count'] / (a.loc[(0,0),'count']+a.loc[(0,1),'count'])\n",
    "a.loc[(0,1),'ratio'] = a.loc[(0,1),'count'] / (a.loc[(0,0),'count']+a.loc[(0,1),'count'])\n",
    "\n",
    "a.loc[(1,0),'ratio'] = a.loc[(1,0),'count'] / (a.loc[(1,0),'count']+a.loc[(1,1),'count'])\n",
    "a.loc[(1,1),'ratio'] = a.loc[(1,1),'count'] / (a.loc[(1,0),'count']+a.loc[(1,1),'count'])\n",
    "a"
   ]
  },
  {
   "cell_type": "code",
   "execution_count": 25,
   "metadata": {},
   "outputs": [
    {
     "name": "stdout",
     "output_type": "stream",
     "text": [
      " P(Target=1|ind_var12_0=0):  0.042\n",
      " P(Target=1|ind_var12_0=1):  0.012\n",
      "ratio:  3.5\n"
     ]
    }
   ],
   "source": [
    "# Look at conditional probabilty\n",
    "\n",
    "print(\" P(Target=1|ind_var12_0=0): \", a.loc[(0,1),'ratio'].round(3))\n",
    "print(\" P(Target=1|ind_var12_0=1): \", a.loc[(1,1),'ratio'].round(3))\n",
    "print(\"ratio: \" , (a.loc[(0,1),'ratio']/a.loc[(1,1),'ratio']).round(1))"
   ]
  },
  {
   "cell_type": "markdown",
   "metadata": {},
   "source": [
    "#### The customer unsatisfaction is 3.5 times more likely when ind_var12_0 is absent (obtained from P(Target=1|ind_var12_0=0) / P(Target=1|ind_var12_0=1) = 3.5)"
   ]
  },
  {
   "cell_type": "code",
   "execution_count": 26,
   "metadata": {},
   "outputs": [
    {
     "name": "stdout",
     "output_type": "stream",
     "text": [
      "ind_var12_0      0     1\n",
      "TARGET                  \n",
      "0            67940  5072\n",
      "1             2947    61\n"
     ]
    },
    {
     "data": {
      "image/png": "[encoded data removed]",
      "text/plain": [
       "<Figure size 360x288 with 1 Axes>"
      ]
     },
     "metadata": {
      "needs_background": "light"
     },
     "output_type": "display_data"
    }
   ],
   "source": [
    "the_feature = 'ind_var12_0'\n",
    "\n",
    "# Using Crosstab\n",
    "\n",
    "aa = train[[the_feature,'TARGET','count']]\n",
    "\n",
    "print(pd.crosstab(aa.TARGET,aa[the_feature]))\n",
    "\n",
    "\n",
    "#Binary Distribution Histogram\n",
    "\n",
    "plt.figure(figsize=[5,4])\n",
    "\n",
    "plt.hist([train[train.TARGET==0][the_feature],\n",
    "          train[train.TARGET==1][the_feature]], \n",
    "          bins=[-.5,.5,.5,1.5], \n",
    "          ec=\"k\",\n",
    "          label=('happy','unhappy'))\n",
    "\n",
    "plt.xticks((0,1))\n",
    "plt.grid(axis='y', alpha=0.75)\n",
    "\n",
    "plt.xlabel('ind_var12_0',fontsize=15)\n",
    "plt.ylabel('count',fontsize=15)\n",
    "\n",
    "plt.title('Binary Distribution Histogram',fontsize=15)\n",
    "plt.legend(loc='upper right')\n",
    "\n",
    "plt.grid(axis='y', alpha=0.75)\n",
    "\n",
    "plt.savefig('plots/ind_var12_0.png', dpi=100, bbox_inches='tight')\n",
    "\n",
    "plt.show()"
   ]
  },
  {
   "cell_type": "markdown",
   "metadata": {},
   "source": [
    "## <span style=\"color:blue\"> 5. ind_var13_0</span>"
   ]
  },
  {
   "cell_type": "code",
   "execution_count": 27,
   "metadata": {},
   "outputs": [
    {
     "name": "stdout",
     "output_type": "stream",
     "text": [
      "5.feature:  ind_var13_0\n"
     ]
    }
   ],
   "source": [
    "print(\"5.feature: \", features[4])"
   ]
  },
  {
   "cell_type": "code",
   "execution_count": 28,
   "metadata": {},
   "outputs": [
    {
     "name": "stdout",
     "output_type": "stream",
     "text": [
      "number of unique values:  2\n"
     ]
    },
    {
     "data": {
      "text/html": [
       "<div>\n",
       "<style scoped>\n",
       "    .dataframe tbody tr th:only-of-type {\n",
       "        vertical-align: middle;\n",
       "    }\n",
       "\n",
       "    .dataframe tbody tr th {\n",
       "        vertical-align: top;\n",
       "    }\n",
       "\n",
       "    .dataframe thead th {\n",
       "        text-align: right;\n",
       "    }\n",
       "</style>\n",
       "<table border=\"1\" class=\"dataframe\">\n",
       "  <thead>\n",
       "    <tr style=\"text-align: right;\">\n",
       "      <th></th>\n",
       "      <th></th>\n",
       "      <th>count</th>\n",
       "      <th>ratio</th>\n",
       "    </tr>\n",
       "    <tr>\n",
       "      <th>ind_var13_0</th>\n",
       "      <th>TARGET</th>\n",
       "      <th></th>\n",
       "      <th></th>\n",
       "    </tr>\n",
       "  </thead>\n",
       "  <tbody>\n",
       "    <tr>\n",
       "      <th rowspan=\"2\" valign=\"top\">0</th>\n",
       "      <th>0</th>\n",
       "      <td>69067</td>\n",
       "      <td>0.958625</td>\n",
       "    </tr>\n",
       "    <tr>\n",
       "      <th>1</th>\n",
       "      <td>2981</td>\n",
       "      <td>0.041375</td>\n",
       "    </tr>\n",
       "    <tr>\n",
       "      <th rowspan=\"2\" valign=\"top\">1</th>\n",
       "      <th>0</th>\n",
       "      <td>3945</td>\n",
       "      <td>0.993202</td>\n",
       "    </tr>\n",
       "    <tr>\n",
       "      <th>1</th>\n",
       "      <td>27</td>\n",
       "      <td>0.006798</td>\n",
       "    </tr>\n",
       "  </tbody>\n",
       "</table>\n",
       "</div>"
      ],
      "text/plain": [
       "                    count     ratio\n",
       "ind_var13_0 TARGET                 \n",
       "0           0       69067  0.958625\n",
       "            1        2981  0.041375\n",
       "1           0        3945  0.993202\n",
       "            1          27  0.006798"
      ]
     },
     "execution_count": 28,
     "metadata": {},
     "output_type": "execute_result"
    }
   ],
   "source": [
    "print(\"number of unique values: \", train.ind_var13_0.nunique())\n",
    "\n",
    "a = train[['ind_var13_0','TARGET','count']].groupby(['ind_var13_0','TARGET']).count()\n",
    "a['ratio'] = 0\n",
    "a.loc[(0,0),'ratio'] = a.loc[(0,0),'count'] / (a.loc[(0,0),'count']+a.loc[(0,1),'count'])\n",
    "a.loc[(0,1),'ratio'] = a.loc[(0,1),'count'] / (a.loc[(0,0),'count']+a.loc[(0,1),'count'])\n",
    "\n",
    "a.loc[(1,0),'ratio'] = a.loc[(1,0),'count'] / (a.loc[(1,0),'count']+a.loc[(1,1),'count'])\n",
    "a.loc[(1,1),'ratio'] = a.loc[(1,1),'count'] / (a.loc[(1,0),'count']+a.loc[(1,1),'count'])\n",
    "a"
   ]
  },
  {
   "cell_type": "code",
   "execution_count": 29,
   "metadata": {},
   "outputs": [
    {
     "name": "stdout",
     "output_type": "stream",
     "text": [
      " P(Target=1|ind_var13_0=0):  0.041\n",
      " P(Target=1|ind_var13_0=1):  0.007\n",
      "ratio:  6.1\n"
     ]
    }
   ],
   "source": [
    "# Look at conditional probabilty\n",
    "\n",
    "print(\" P(Target=1|ind_var13_0=0): \", a.loc[(0,1),'ratio'].round(3))\n",
    "print(\" P(Target=1|ind_var13_0=1): \", a.loc[(1,1),'ratio'].round(3))\n",
    "print(\"ratio: \" , (a.loc[(0,1),'ratio']/a.loc[(1,1),'ratio']).round(1))"
   ]
  },
  {
   "cell_type": "markdown",
   "metadata": {},
   "source": [
    "The customer unsatisfaction is 6.1 times more likely when ind_var13_0 is absent"
   ]
  },
  {
   "cell_type": "code",
   "execution_count": 30,
   "metadata": {},
   "outputs": [
    {
     "name": "stdout",
     "output_type": "stream",
     "text": [
      "ind_var13_0      0     1\n",
      "TARGET                  \n",
      "0            69067  3945\n",
      "1             2981    27\n"
     ]
    },
    {
     "data": {
      "image/png": "[encoded data removed]",
      "text/plain": [
       "<Figure size 360x288 with 1 Axes>"
      ]
     },
     "metadata": {
      "needs_background": "light"
     },
     "output_type": "display_data"
    }
   ],
   "source": [
    "the_feature = 'ind_var13_0'\n",
    "\n",
    "# Using Crosstab\n",
    "\n",
    "aa = train[[the_feature,'TARGET','count']]\n",
    "\n",
    "print(pd.crosstab(aa.TARGET,aa[the_feature]))\n",
    "\n",
    "\n",
    "#Binary Distribution Histogram\n",
    "\n",
    "plt.figure(figsize=[5,4])\n",
    "\n",
    "plt.hist([train[train.TARGET==0][the_feature],\n",
    "          train[train.TARGET==1][the_feature]], \n",
    "          bins=[-.5,.5,.5,1.5], \n",
    "          ec=\"k\",\n",
    "          label=('happy','unhappy'))\n",
    "\n",
    "plt.xticks((0,1))\n",
    "plt.grid(axis='y', alpha=0.75)\n",
    "\n",
    "plt.xlabel('ind_var13_0',fontsize=15)\n",
    "plt.ylabel('count',fontsize=15)\n",
    "\n",
    "plt.title('Binary Distribution Histogram',fontsize=15)\n",
    "plt.legend(loc='upper right')\n",
    "\n",
    "plt.grid(axis='y', alpha=0.75)\n",
    "\n",
    "plt.savefig('plots/ind_var13_0.png', dpi=100, bbox_inches='tight')\n",
    "\n",
    "plt.show()"
   ]
  },
  {
   "cell_type": "markdown",
   "metadata": {},
   "source": [
    "## <span style=\"color:blue\"> 6. ind_var30</span>"
   ]
  },
  {
   "cell_type": "code",
   "execution_count": 31,
   "metadata": {},
   "outputs": [
    {
     "name": "stdout",
     "output_type": "stream",
     "text": [
      "6.feature:  ind_var30\n"
     ]
    }
   ],
   "source": [
    "print(\"6.feature: \", features[5])"
   ]
  },
  {
   "cell_type": "code",
   "execution_count": 32,
   "metadata": {},
   "outputs": [
    {
     "name": "stdout",
     "output_type": "stream",
     "text": [
      "number of unique values:  2\n"
     ]
    },
    {
     "data": {
      "text/html": [
       "<div>\n",
       "<style scoped>\n",
       "    .dataframe tbody tr th:only-of-type {\n",
       "        vertical-align: middle;\n",
       "    }\n",
       "\n",
       "    .dataframe tbody tr th {\n",
       "        vertical-align: top;\n",
       "    }\n",
       "\n",
       "    .dataframe thead th {\n",
       "        text-align: right;\n",
       "    }\n",
       "</style>\n",
       "<table border=\"1\" class=\"dataframe\">\n",
       "  <thead>\n",
       "    <tr style=\"text-align: right;\">\n",
       "      <th></th>\n",
       "      <th></th>\n",
       "      <th>count</th>\n",
       "      <th>ratio</th>\n",
       "    </tr>\n",
       "    <tr>\n",
       "      <th>ind_var30</th>\n",
       "      <th>TARGET</th>\n",
       "      <th></th>\n",
       "      <th></th>\n",
       "    </tr>\n",
       "  </thead>\n",
       "  <tbody>\n",
       "    <tr>\n",
       "      <th rowspan=\"2\" valign=\"top\">0</th>\n",
       "      <th>0</th>\n",
       "      <td>18524</td>\n",
       "      <td>0.912063</td>\n",
       "    </tr>\n",
       "    <tr>\n",
       "      <th>1</th>\n",
       "      <td>1786</td>\n",
       "      <td>0.087937</td>\n",
       "    </tr>\n",
       "    <tr>\n",
       "      <th rowspan=\"2\" valign=\"top\">1</th>\n",
       "      <th>0</th>\n",
       "      <td>54488</td>\n",
       "      <td>0.978065</td>\n",
       "    </tr>\n",
       "    <tr>\n",
       "      <th>1</th>\n",
       "      <td>1222</td>\n",
       "      <td>0.021935</td>\n",
       "    </tr>\n",
       "  </tbody>\n",
       "</table>\n",
       "</div>"
      ],
      "text/plain": [
       "                  count     ratio\n",
       "ind_var30 TARGET                 \n",
       "0         0       18524  0.912063\n",
       "          1        1786  0.087937\n",
       "1         0       54488  0.978065\n",
       "          1        1222  0.021935"
      ]
     },
     "execution_count": 32,
     "metadata": {},
     "output_type": "execute_result"
    }
   ],
   "source": [
    "print(\"number of unique values: \", train.ind_var30.nunique())\n",
    "\n",
    "a = train[['ind_var30','TARGET','count']].groupby(['ind_var30','TARGET']).count()\n",
    "a['ratio'] = 0\n",
    "a.loc[(0,0),'ratio'] = a.loc[(0,0),'count'] / (a.loc[(0,0),'count']+a.loc[(0,1),'count'])\n",
    "a.loc[(0,1),'ratio'] = a.loc[(0,1),'count'] / (a.loc[(0,0),'count']+a.loc[(0,1),'count'])\n",
    "\n",
    "a.loc[(1,0),'ratio'] = a.loc[(1,0),'count'] / (a.loc[(1,0),'count']+a.loc[(1,1),'count'])\n",
    "a.loc[(1,1),'ratio'] = a.loc[(1,1),'count'] / (a.loc[(1,0),'count']+a.loc[(1,1),'count'])\n",
    "a"
   ]
  },
  {
   "cell_type": "code",
   "execution_count": 33,
   "metadata": {},
   "outputs": [
    {
     "name": "stdout",
     "output_type": "stream",
     "text": [
      " P(Target=1|ind_var30=0):  0.088\n",
      " P(Target=1|ind_var30=1):  0.022\n",
      "ratio:  4.0\n"
     ]
    }
   ],
   "source": [
    "# Look at conditional probabilty\n",
    "\n",
    "print(\" P(Target=1|ind_var30=0): \", a.loc[(0,1),'ratio'].round(3))\n",
    "print(\" P(Target=1|ind_var30=1): \", a.loc[(1,1),'ratio'].round(3))\n",
    "print(\"ratio: \" , (a.loc[(0,1),'ratio']/a.loc[(1,1),'ratio']).round(1))"
   ]
  },
  {
   "cell_type": "markdown",
   "metadata": {},
   "source": [
    "The customer unsatisfaction is 4 times more likely when ind_var30 is absent"
   ]
  },
  {
   "cell_type": "code",
   "execution_count": 34,
   "metadata": {},
   "outputs": [
    {
     "name": "stdout",
     "output_type": "stream",
     "text": [
      "ind_var30      0      1\n",
      "TARGET                 \n",
      "0          18524  54488\n",
      "1           1786   1222\n"
     ]
    },
    {
     "data": {
      "image/png": "[encoded data removed]",
      "text/plain": [
       "<Figure size 360x288 with 1 Axes>"
      ]
     },
     "metadata": {
      "needs_background": "light"
     },
     "output_type": "display_data"
    }
   ],
   "source": [
    "the_feature = 'ind_var30'\n",
    "\n",
    "# Using Crosstab\n",
    "\n",
    "aa = train[[the_feature,'TARGET','count']]\n",
    "\n",
    "print(pd.crosstab(aa.TARGET,aa[the_feature]))\n",
    "\n",
    "\n",
    "#Binary Distribution Histogram\n",
    "\n",
    "plt.figure(figsize=[5,4])\n",
    "\n",
    "plt.hist([train[train.TARGET==0][the_feature],\n",
    "          train[train.TARGET==1][the_feature]], \n",
    "          bins=[-.5,.5,.5,1.5], \n",
    "          ec=\"k\",\n",
    "          label=('happy','unhappy'))\n",
    "\n",
    "plt.xticks((0,1))\n",
    "plt.grid(axis='y', alpha=0.75)\n",
    "\n",
    "plt.xlabel('ind_var30',fontsize=15)\n",
    "plt.ylabel('count',fontsize=15)\n",
    "\n",
    "plt.title('Binary Distribution Histogram',fontsize=15)\n",
    "plt.legend(loc='upper right')\n",
    "\n",
    "plt.grid(axis='y', alpha=0.75)\n",
    "\n",
    "plt.savefig('plots/ind_var30.png', dpi=100, bbox_inches='tight')\n",
    "\n",
    "plt.show()"
   ]
  },
  {
   "cell_type": "markdown",
   "metadata": {},
   "source": [
    "## <span style=\"color:blue\"> 7. num_var30_0</span>"
   ]
  },
  {
   "cell_type": "code",
   "execution_count": 35,
   "metadata": {},
   "outputs": [
    {
     "name": "stdout",
     "output_type": "stream",
     "text": [
      "7.feature:  num_var30_0\n"
     ]
    }
   ],
   "source": [
    "print(\"7.feature: \", features[6])"
   ]
  },
  {
   "cell_type": "code",
   "execution_count": 36,
   "metadata": {},
   "outputs": [
    {
     "name": "stdout",
     "output_type": "stream",
     "text": [
      "number of unique values:  11\n"
     ]
    }
   ],
   "source": [
    "print(\"number of unique values: \", train.num_var30_0.nunique())"
   ]
  },
  {
   "cell_type": "code",
   "execution_count": 37,
   "metadata": {},
   "outputs": [
    {
     "data": {
      "text/html": [
       "<div>\n",
       "<style scoped>\n",
       "    .dataframe tbody tr th:only-of-type {\n",
       "        vertical-align: middle;\n",
       "    }\n",
       "\n",
       "    .dataframe tbody tr th {\n",
       "        vertical-align: top;\n",
       "    }\n",
       "\n",
       "    .dataframe thead th {\n",
       "        text-align: right;\n",
       "    }\n",
       "</style>\n",
       "<table border=\"1\" class=\"dataframe\">\n",
       "  <thead>\n",
       "    <tr style=\"text-align: right;\">\n",
       "      <th></th>\n",
       "      <th></th>\n",
       "      <th>count</th>\n",
       "    </tr>\n",
       "    <tr>\n",
       "      <th>num_var30_0</th>\n",
       "      <th>TARGET</th>\n",
       "      <th></th>\n",
       "    </tr>\n",
       "  </thead>\n",
       "  <tbody>\n",
       "    <tr>\n",
       "      <th rowspan=\"2\" valign=\"top\">0</th>\n",
       "      <th>0</th>\n",
       "      <td>339</td>\n",
       "    </tr>\n",
       "    <tr>\n",
       "      <th>1</th>\n",
       "      <td>4</td>\n",
       "    </tr>\n",
       "    <tr>\n",
       "      <th rowspan=\"2\" valign=\"top\">3</th>\n",
       "      <th>0</th>\n",
       "      <td>65183</td>\n",
       "    </tr>\n",
       "    <tr>\n",
       "      <th>1</th>\n",
       "      <td>2903</td>\n",
       "    </tr>\n",
       "    <tr>\n",
       "      <th rowspan=\"2\" valign=\"top\">6</th>\n",
       "      <th>0</th>\n",
       "      <td>5573</td>\n",
       "    </tr>\n",
       "    <tr>\n",
       "      <th>1</th>\n",
       "      <td>84</td>\n",
       "    </tr>\n",
       "    <tr>\n",
       "      <th rowspan=\"2\" valign=\"top\">9</th>\n",
       "      <th>0</th>\n",
       "      <td>1744</td>\n",
       "    </tr>\n",
       "    <tr>\n",
       "      <th>1</th>\n",
       "      <td>16</td>\n",
       "    </tr>\n",
       "    <tr>\n",
       "      <th>12</th>\n",
       "      <th>0</th>\n",
       "      <td>152</td>\n",
       "    </tr>\n",
       "    <tr>\n",
       "      <th>15</th>\n",
       "      <th>0</th>\n",
       "      <td>17</td>\n",
       "    </tr>\n",
       "    <tr>\n",
       "      <th>18</th>\n",
       "      <th>0</th>\n",
       "      <td>1</td>\n",
       "    </tr>\n",
       "    <tr>\n",
       "      <th>21</th>\n",
       "      <th>0</th>\n",
       "      <td>1</td>\n",
       "    </tr>\n",
       "    <tr>\n",
       "      <th>24</th>\n",
       "      <th>0</th>\n",
       "      <td>1</td>\n",
       "    </tr>\n",
       "    <tr>\n",
       "      <th>33</th>\n",
       "      <th>0</th>\n",
       "      <td>1</td>\n",
       "    </tr>\n",
       "    <tr>\n",
       "      <th>114</th>\n",
       "      <th>1</th>\n",
       "      <td>1</td>\n",
       "    </tr>\n",
       "  </tbody>\n",
       "</table>\n",
       "</div>"
      ],
      "text/plain": [
       "                    count\n",
       "num_var30_0 TARGET       \n",
       "0           0         339\n",
       "            1           4\n",
       "3           0       65183\n",
       "            1        2903\n",
       "6           0        5573\n",
       "            1          84\n",
       "9           0        1744\n",
       "            1          16\n",
       "12          0         152\n",
       "15          0          17\n",
       "18          0           1\n",
       "21          0           1\n",
       "24          0           1\n",
       "33          0           1\n",
       "114         1           1"
      ]
     },
     "execution_count": 37,
     "metadata": {},
     "output_type": "execute_result"
    }
   ],
   "source": [
    "a = train[['num_var30_0','TARGET','count']].groupby(['num_var30_0','TARGET']).count()\n",
    "a"
   ]
  },
  {
   "cell_type": "code",
   "execution_count": 38,
   "metadata": {},
   "outputs": [
    {
     "data": {
      "text/html": [
       "<div>\n",
       "<style scoped>\n",
       "    .dataframe tbody tr th:only-of-type {\n",
       "        vertical-align: middle;\n",
       "    }\n",
       "\n",
       "    .dataframe tbody tr th {\n",
       "        vertical-align: top;\n",
       "    }\n",
       "\n",
       "    .dataframe thead th {\n",
       "        text-align: right;\n",
       "    }\n",
       "</style>\n",
       "<table border=\"1\" class=\"dataframe\">\n",
       "  <thead>\n",
       "    <tr style=\"text-align: right;\">\n",
       "      <th></th>\n",
       "      <th></th>\n",
       "      <th>count</th>\n",
       "      <th>ratio</th>\n",
       "    </tr>\n",
       "    <tr>\n",
       "      <th>num_var30_0</th>\n",
       "      <th>TARGET</th>\n",
       "      <th></th>\n",
       "      <th></th>\n",
       "    </tr>\n",
       "  </thead>\n",
       "  <tbody>\n",
       "    <tr>\n",
       "      <th rowspan=\"2\" valign=\"top\">0</th>\n",
       "      <th>0</th>\n",
       "      <td>339</td>\n",
       "      <td>0.988338</td>\n",
       "    </tr>\n",
       "    <tr>\n",
       "      <th>1</th>\n",
       "      <td>4</td>\n",
       "      <td>0.011662</td>\n",
       "    </tr>\n",
       "    <tr>\n",
       "      <th rowspan=\"2\" valign=\"top\">3</th>\n",
       "      <th>0</th>\n",
       "      <td>65183</td>\n",
       "      <td>0.957363</td>\n",
       "    </tr>\n",
       "    <tr>\n",
       "      <th>1</th>\n",
       "      <td>2903</td>\n",
       "      <td>0.042637</td>\n",
       "    </tr>\n",
       "    <tr>\n",
       "      <th rowspan=\"2\" valign=\"top\">6</th>\n",
       "      <th>0</th>\n",
       "      <td>5573</td>\n",
       "      <td>0.985151</td>\n",
       "    </tr>\n",
       "    <tr>\n",
       "      <th>1</th>\n",
       "      <td>84</td>\n",
       "      <td>0.014849</td>\n",
       "    </tr>\n",
       "    <tr>\n",
       "      <th rowspan=\"2\" valign=\"top\">9</th>\n",
       "      <th>0</th>\n",
       "      <td>1744</td>\n",
       "      <td>0.990909</td>\n",
       "    </tr>\n",
       "    <tr>\n",
       "      <th>1</th>\n",
       "      <td>16</td>\n",
       "      <td>0.009091</td>\n",
       "    </tr>\n",
       "    <tr>\n",
       "      <th>12</th>\n",
       "      <th>0</th>\n",
       "      <td>152</td>\n",
       "      <td>1.000000</td>\n",
       "    </tr>\n",
       "    <tr>\n",
       "      <th>15</th>\n",
       "      <th>0</th>\n",
       "      <td>17</td>\n",
       "      <td>1.000000</td>\n",
       "    </tr>\n",
       "    <tr>\n",
       "      <th>18</th>\n",
       "      <th>0</th>\n",
       "      <td>1</td>\n",
       "      <td>1.000000</td>\n",
       "    </tr>\n",
       "    <tr>\n",
       "      <th>21</th>\n",
       "      <th>0</th>\n",
       "      <td>1</td>\n",
       "      <td>1.000000</td>\n",
       "    </tr>\n",
       "    <tr>\n",
       "      <th>24</th>\n",
       "      <th>0</th>\n",
       "      <td>1</td>\n",
       "      <td>1.000000</td>\n",
       "    </tr>\n",
       "    <tr>\n",
       "      <th>33</th>\n",
       "      <th>0</th>\n",
       "      <td>1</td>\n",
       "      <td>1.000000</td>\n",
       "    </tr>\n",
       "    <tr>\n",
       "      <th>114</th>\n",
       "      <th>1</th>\n",
       "      <td>1</td>\n",
       "      <td>1.000000</td>\n",
       "    </tr>\n",
       "  </tbody>\n",
       "</table>\n",
       "</div>"
      ],
      "text/plain": [
       "                    count     ratio\n",
       "num_var30_0 TARGET                 \n",
       "0           0         339  0.988338\n",
       "            1           4  0.011662\n",
       "3           0       65183  0.957363\n",
       "            1        2903  0.042637\n",
       "6           0        5573  0.985151\n",
       "            1          84  0.014849\n",
       "9           0        1744  0.990909\n",
       "            1          16  0.009091\n",
       "12          0         152  1.000000\n",
       "15          0          17  1.000000\n",
       "18          0           1  1.000000\n",
       "21          0           1  1.000000\n",
       "24          0           1  1.000000\n",
       "33          0           1  1.000000\n",
       "114         1           1  1.000000"
      ]
     },
     "execution_count": 38,
     "metadata": {},
     "output_type": "execute_result"
    }
   ],
   "source": [
    "a['ratio'] = 1\n",
    "\n",
    "a.loc[(0,0),'ratio'] = a.loc[(0,0),'count'] / (a.loc[(0,0),'count']+a.loc[(0,1),'count'])\n",
    "a.loc[(0,1),'ratio'] = a.loc[(0,1),'count'] / (a.loc[(0,0),'count']+a.loc[(0,1),'count'])\n",
    "\n",
    "a.loc[(3,0),'ratio'] = a.loc[(3,0),'count'] / (a.loc[(3,0),'count']+a.loc[(3,1),'count'])\n",
    "a.loc[(3,1),'ratio'] = a.loc[(3,1),'count'] / (a.loc[(3,0),'count']+a.loc[(3,1),'count'])\n",
    "\n",
    "a.loc[(6,0),'ratio'] = a.loc[(6,0),'count'] / (a.loc[(6,0),'count']+a.loc[(6,1),'count'])\n",
    "a.loc[(6,1),'ratio'] = a.loc[(6,1),'count'] / (a.loc[(6,0),'count']+a.loc[(6,1),'count'])\n",
    "\n",
    "a.loc[(9,0),'ratio'] = a.loc[(9,0),'count'] / (a.loc[(9,0),'count']+a.loc[(9,1),'count'])\n",
    "a.loc[(9,1),'ratio'] = a.loc[(9,1),'count'] / (a.loc[(9,0),'count']+a.loc[(9,1),'count'])\n",
    "\n",
    "a"
   ]
  },
  {
   "cell_type": "code",
   "execution_count": 39,
   "metadata": {},
   "outputs": [
    {
     "name": "stdout",
     "output_type": "stream",
     "text": [
      " P(Target=1|num_var30_0=0):  0.012\n",
      " P(Target=1|num_var30_0=1):  0.043\n"
     ]
    },
    {
     "data": {
      "text/plain": [
       "0.2790697674418605"
      ]
     },
     "execution_count": 39,
     "metadata": {},
     "output_type": "execute_result"
    }
   ],
   "source": [
    "# Look at conditional probabilty\n",
    "\n",
    "print(\" P(Target=1|num_var30_0=0): \", a.loc[(0,1),'ratio'].round(3))\n",
    "print(\" P(Target=1|num_var30_0=1): \", a.loc[(3,1),'ratio'].round(3))\n",
    "\n",
    "a.loc[(0,1),'ratio'].round(3)/a.loc[(3,1),'ratio'].round(3)\n"
   ]
  },
  {
   "cell_type": "code",
   "execution_count": 40,
   "metadata": {},
   "outputs": [
    {
     "name": "stdout",
     "output_type": "stream",
     "text": [
      "num_var30_0  0      3     6     9    12   15   18   21   24   33   114\n",
      "TARGET                                                                \n",
      "0            339  65183  5573  1744  152   17    1    1    1    1    0\n",
      "1              4   2903    84    16    0    0    0    0    0    0    1\n"
     ]
    },
    {
     "data": {
      "image/png": "[encoded data removed]",
      "text/plain": [
       "<Figure size 360x288 with 1 Axes>"
      ]
     },
     "metadata": {
      "needs_background": "light"
     },
     "output_type": "display_data"
    }
   ],
   "source": [
    "the_feature = 'num_var30_0'\n",
    "\n",
    "# Using Crosstab\n",
    "\n",
    "aa = train[[the_feature,'TARGET','count']]\n",
    "\n",
    "print(pd.crosstab(aa.TARGET,aa[the_feature]))\n",
    "\n",
    "\n",
    "#Binary Distribution Histogram\n",
    "\n",
    "plt.figure(figsize=[5,4])\n",
    "\n",
    "plt.hist([train[train.TARGET==0][the_feature],\n",
    "          train[train.TARGET==1][the_feature]], \n",
    "          bins=[-.5,.5, 2.5,3.5, 5.5, 6.5, 8.5, 9.5], \n",
    "          ec=\"k\",\n",
    "          label=('happy','unhappy'))\n",
    "\n",
    "plt.xticks((0,3,6,9,15))\n",
    "plt.grid(axis='y', alpha=0.75)\n",
    "\n",
    "plt.xlabel(the_feature,fontsize=15)\n",
    "plt.ylabel('count',fontsize=15)\n",
    "\n",
    "plt.title('Binary Distribution Histogram',fontsize=15)\n",
    "plt.legend(loc='upper right')\n",
    "\n",
    "plt.grid(axis='y', alpha=0.75)\n",
    "\n",
    "plt.savefig('plots/num_var30_0.png', dpi=100, bbox_inches='tight')\n",
    "\n",
    "plt.show()"
   ]
  },
  {
   "cell_type": "code",
   "execution_count": null,
   "metadata": {},
   "outputs": [],
   "source": []
  },
  {
   "cell_type": "markdown",
   "metadata": {},
   "source": [
    "## <span style=\"color:blue\"> 8. num_var30</span>"
   ]
  },
  {
   "cell_type": "code",
   "execution_count": 41,
   "metadata": {},
   "outputs": [
    {
     "name": "stdout",
     "output_type": "stream",
     "text": [
      "8.feature:  num_var30\n"
     ]
    }
   ],
   "source": [
    "print(\"8.feature: \", features[7])"
   ]
  },
  {
   "cell_type": "code",
   "execution_count": 42,
   "metadata": {},
   "outputs": [
    {
     "name": "stdout",
     "output_type": "stream",
     "text": [
      "number of unique values:  9\n"
     ]
    },
    {
     "data": {
      "text/html": [
       "<div>\n",
       "<style scoped>\n",
       "    .dataframe tbody tr th:only-of-type {\n",
       "        vertical-align: middle;\n",
       "    }\n",
       "\n",
       "    .dataframe tbody tr th {\n",
       "        vertical-align: top;\n",
       "    }\n",
       "\n",
       "    .dataframe thead th {\n",
       "        text-align: right;\n",
       "    }\n",
       "</style>\n",
       "<table border=\"1\" class=\"dataframe\">\n",
       "  <thead>\n",
       "    <tr style=\"text-align: right;\">\n",
       "      <th></th>\n",
       "      <th></th>\n",
       "      <th>count</th>\n",
       "    </tr>\n",
       "    <tr>\n",
       "      <th>num_var30</th>\n",
       "      <th>TARGET</th>\n",
       "      <th></th>\n",
       "    </tr>\n",
       "  </thead>\n",
       "  <tbody>\n",
       "    <tr>\n",
       "      <th rowspan=\"2\" valign=\"top\">0</th>\n",
       "      <th>0</th>\n",
       "      <td>18524</td>\n",
       "    </tr>\n",
       "    <tr>\n",
       "      <th>1</th>\n",
       "      <td>1786</td>\n",
       "    </tr>\n",
       "    <tr>\n",
       "      <th rowspan=\"2\" valign=\"top\">3</th>\n",
       "      <th>0</th>\n",
       "      <td>50273</td>\n",
       "    </tr>\n",
       "    <tr>\n",
       "      <th>1</th>\n",
       "      <td>1179</td>\n",
       "    </tr>\n",
       "    <tr>\n",
       "      <th rowspan=\"2\" valign=\"top\">6</th>\n",
       "      <th>0</th>\n",
       "      <td>3860</td>\n",
       "    </tr>\n",
       "    <tr>\n",
       "      <th>1</th>\n",
       "      <td>41</td>\n",
       "    </tr>\n",
       "    <tr>\n",
       "      <th rowspan=\"2\" valign=\"top\">9</th>\n",
       "      <th>0</th>\n",
       "      <td>317</td>\n",
       "    </tr>\n",
       "    <tr>\n",
       "      <th>1</th>\n",
       "      <td>2</td>\n",
       "    </tr>\n",
       "    <tr>\n",
       "      <th>12</th>\n",
       "      <th>0</th>\n",
       "      <td>28</td>\n",
       "    </tr>\n",
       "    <tr>\n",
       "      <th>15</th>\n",
       "      <th>0</th>\n",
       "      <td>7</td>\n",
       "    </tr>\n",
       "    <tr>\n",
       "      <th>18</th>\n",
       "      <th>0</th>\n",
       "      <td>1</td>\n",
       "    </tr>\n",
       "    <tr>\n",
       "      <th>21</th>\n",
       "      <th>0</th>\n",
       "      <td>1</td>\n",
       "    </tr>\n",
       "    <tr>\n",
       "      <th>33</th>\n",
       "      <th>0</th>\n",
       "      <td>1</td>\n",
       "    </tr>\n",
       "  </tbody>\n",
       "</table>\n",
       "</div>"
      ],
      "text/plain": [
       "                  count\n",
       "num_var30 TARGET       \n",
       "0         0       18524\n",
       "          1        1786\n",
       "3         0       50273\n",
       "          1        1179\n",
       "6         0        3860\n",
       "          1          41\n",
       "9         0         317\n",
       "          1           2\n",
       "12        0          28\n",
       "15        0           7\n",
       "18        0           1\n",
       "21        0           1\n",
       "33        0           1"
      ]
     },
     "execution_count": 42,
     "metadata": {},
     "output_type": "execute_result"
    }
   ],
   "source": [
    "print(\"number of unique values: \", train.num_var30.nunique())\n",
    "\n",
    "a = train[['num_var30','TARGET','count']].groupby(['num_var30','TARGET']).count()\n",
    "a"
   ]
  },
  {
   "cell_type": "code",
   "execution_count": 43,
   "metadata": {},
   "outputs": [
    {
     "data": {
      "text/html": [
       "<div>\n",
       "<style scoped>\n",
       "    .dataframe tbody tr th:only-of-type {\n",
       "        vertical-align: middle;\n",
       "    }\n",
       "\n",
       "    .dataframe tbody tr th {\n",
       "        vertical-align: top;\n",
       "    }\n",
       "\n",
       "    .dataframe thead th {\n",
       "        text-align: right;\n",
       "    }\n",
       "</style>\n",
       "<table border=\"1\" class=\"dataframe\">\n",
       "  <thead>\n",
       "    <tr style=\"text-align: right;\">\n",
       "      <th></th>\n",
       "      <th></th>\n",
       "      <th>count</th>\n",
       "      <th>ratio</th>\n",
       "    </tr>\n",
       "    <tr>\n",
       "      <th>num_var30</th>\n",
       "      <th>TARGET</th>\n",
       "      <th></th>\n",
       "      <th></th>\n",
       "    </tr>\n",
       "  </thead>\n",
       "  <tbody>\n",
       "    <tr>\n",
       "      <th rowspan=\"2\" valign=\"top\">0</th>\n",
       "      <th>0</th>\n",
       "      <td>18524</td>\n",
       "      <td>0.912063</td>\n",
       "    </tr>\n",
       "    <tr>\n",
       "      <th>1</th>\n",
       "      <td>1786</td>\n",
       "      <td>0.087937</td>\n",
       "    </tr>\n",
       "    <tr>\n",
       "      <th rowspan=\"2\" valign=\"top\">3</th>\n",
       "      <th>0</th>\n",
       "      <td>50273</td>\n",
       "      <td>0.977085</td>\n",
       "    </tr>\n",
       "    <tr>\n",
       "      <th>1</th>\n",
       "      <td>1179</td>\n",
       "      <td>0.022915</td>\n",
       "    </tr>\n",
       "    <tr>\n",
       "      <th rowspan=\"2\" valign=\"top\">6</th>\n",
       "      <th>0</th>\n",
       "      <td>3860</td>\n",
       "      <td>0.989490</td>\n",
       "    </tr>\n",
       "    <tr>\n",
       "      <th>1</th>\n",
       "      <td>41</td>\n",
       "      <td>0.010510</td>\n",
       "    </tr>\n",
       "    <tr>\n",
       "      <th rowspan=\"2\" valign=\"top\">9</th>\n",
       "      <th>0</th>\n",
       "      <td>317</td>\n",
       "      <td>0.993730</td>\n",
       "    </tr>\n",
       "    <tr>\n",
       "      <th>1</th>\n",
       "      <td>2</td>\n",
       "      <td>0.006270</td>\n",
       "    </tr>\n",
       "    <tr>\n",
       "      <th>12</th>\n",
       "      <th>0</th>\n",
       "      <td>28</td>\n",
       "      <td>1.000000</td>\n",
       "    </tr>\n",
       "    <tr>\n",
       "      <th>15</th>\n",
       "      <th>0</th>\n",
       "      <td>7</td>\n",
       "      <td>1.000000</td>\n",
       "    </tr>\n",
       "    <tr>\n",
       "      <th>18</th>\n",
       "      <th>0</th>\n",
       "      <td>1</td>\n",
       "      <td>1.000000</td>\n",
       "    </tr>\n",
       "    <tr>\n",
       "      <th>21</th>\n",
       "      <th>0</th>\n",
       "      <td>1</td>\n",
       "      <td>1.000000</td>\n",
       "    </tr>\n",
       "    <tr>\n",
       "      <th>33</th>\n",
       "      <th>0</th>\n",
       "      <td>1</td>\n",
       "      <td>1.000000</td>\n",
       "    </tr>\n",
       "  </tbody>\n",
       "</table>\n",
       "</div>"
      ],
      "text/plain": [
       "                  count     ratio\n",
       "num_var30 TARGET                 \n",
       "0         0       18524  0.912063\n",
       "          1        1786  0.087937\n",
       "3         0       50273  0.977085\n",
       "          1        1179  0.022915\n",
       "6         0        3860  0.989490\n",
       "          1          41  0.010510\n",
       "9         0         317  0.993730\n",
       "          1           2  0.006270\n",
       "12        0          28  1.000000\n",
       "15        0           7  1.000000\n",
       "18        0           1  1.000000\n",
       "21        0           1  1.000000\n",
       "33        0           1  1.000000"
      ]
     },
     "execution_count": 43,
     "metadata": {},
     "output_type": "execute_result"
    }
   ],
   "source": [
    "a['ratio'] = 1\n",
    "\n",
    "a.loc[(0,0),'ratio'] = a.loc[(0,0),'count'] / (a.loc[(0,0),'count']+a.loc[(0,1),'count'])\n",
    "a.loc[(0,1),'ratio'] = a.loc[(0,1),'count'] / (a.loc[(0,0),'count']+a.loc[(0,1),'count'])\n",
    "\n",
    "a.loc[(3,0),'ratio'] = a.loc[(3,0),'count'] / (a.loc[(3,0),'count']+a.loc[(3,1),'count'])\n",
    "a.loc[(3,1),'ratio'] = a.loc[(3,1),'count'] / (a.loc[(3,0),'count']+a.loc[(3,1),'count'])\n",
    "\n",
    "a.loc[(6,0),'ratio'] = a.loc[(6,0),'count'] / (a.loc[(6,0),'count']+a.loc[(6,1),'count'])\n",
    "a.loc[(6,1),'ratio'] = a.loc[(6,1),'count'] / (a.loc[(6,0),'count']+a.loc[(6,1),'count'])\n",
    "\n",
    "a.loc[(9,0),'ratio'] = a.loc[(9,0),'count'] / (a.loc[(9,0),'count']+a.loc[(9,1),'count'])\n",
    "a.loc[(9,1),'ratio'] = a.loc[(9,1),'count'] / (a.loc[(9,0),'count']+a.loc[(9,1),'count'])\n",
    "\n",
    "a"
   ]
  },
  {
   "cell_type": "code",
   "execution_count": 44,
   "metadata": {},
   "outputs": [
    {
     "name": "stdout",
     "output_type": "stream",
     "text": [
      " P(Target=1|num_var30=0):  0.088\n",
      " P(Target=1|num_var30=1):  0.023\n",
      "The customer unsatisfaction is 3.826086956521739 times more likely when num_var30 is absent\n"
     ]
    }
   ],
   "source": [
    "# Look at conditional probabilty\n",
    "\n",
    "print(\" P(Target=1|num_var30=0): \", a.loc[(0,1),'ratio'].round(3))\n",
    "print(\" P(Target=1|num_var30=1): \", a.loc[(3,1),'ratio'].round(3))\n",
    "r = a.loc[(0,1),'ratio'].round(3)/a.loc[(3,1),'ratio'].round(3)\n",
    "\n",
    "print(f'The customer unsatisfaction is {r} times more likely when num_var30 is absent')"
   ]
  },
  {
   "cell_type": "code",
   "execution_count": 45,
   "metadata": {},
   "outputs": [
    {
     "name": "stdout",
     "output_type": "stream",
     "text": [
      "num_var30     0      3     6    9   12  15  18  21  33\n",
      "TARGET                                                \n",
      "0          18524  50273  3860  317  28   7   1   1   1\n",
      "1           1786   1179    41    2   0   0   0   0   0\n"
     ]
    },
    {
     "data": {
      "image/png": "[encoded data removed]",
      "text/plain": [
       "<Figure size 360x288 with 1 Axes>"
      ]
     },
     "metadata": {
      "needs_background": "light"
     },
     "output_type": "display_data"
    }
   ],
   "source": [
    "the_feature = 'num_var30'\n",
    "\n",
    "# Using Crosstab\n",
    "\n",
    "aa = train[[the_feature,'TARGET','count']]\n",
    "\n",
    "print(pd.crosstab(aa.TARGET,aa[the_feature]))\n",
    "\n",
    "\n",
    "#Binary Distribution Histogram\n",
    "\n",
    "plt.figure(figsize=[5,4])\n",
    "\n",
    "plt.hist([train[train.TARGET==0][the_feature],\n",
    "          train[train.TARGET==1][the_feature]], \n",
    "          bins=[-.5,.5, 2.5,3.5, 5.5,6.5, 8.5,9.5, ], \n",
    "          ec=\"k\",\n",
    "          label=('happy','unhappy'))\n",
    "\n",
    "plt.xticks((0,3))\n",
    "plt.grid(axis='y', alpha=0.75)\n",
    "\n",
    "plt.xlabel('num_var30',fontsize=15)\n",
    "plt.ylabel('count',fontsize=15)\n",
    "\n",
    "plt.title('Binary Distribution Histogram',fontsize=15)\n",
    "plt.legend(loc='upper right')\n",
    "\n",
    "plt.grid(axis='y', alpha=0.75)\n",
    "\n",
    "plt.savefig('plots/num_var30.png', dpi=100, bbox_inches='tight')\n",
    "\n",
    "\n",
    "plt.show()"
   ]
  },
  {
   "cell_type": "markdown",
   "metadata": {},
   "source": [
    "## <span style=\"color:blue\"> 9. num_var42</span>"
   ]
  },
  {
   "cell_type": "code",
   "execution_count": 46,
   "metadata": {},
   "outputs": [
    {
     "name": "stdout",
     "output_type": "stream",
     "text": [
      "9.feature:  num_var42\n"
     ]
    }
   ],
   "source": [
    "print(\"9.feature: \", features[8])"
   ]
  },
  {
   "cell_type": "code",
   "execution_count": 47,
   "metadata": {},
   "outputs": [
    {
     "name": "stdout",
     "output_type": "stream",
     "text": [
      "number of unique values:  7\n"
     ]
    },
    {
     "data": {
      "text/html": [
       "<div>\n",
       "<style scoped>\n",
       "    .dataframe tbody tr th:only-of-type {\n",
       "        vertical-align: middle;\n",
       "    }\n",
       "\n",
       "    .dataframe tbody tr th {\n",
       "        vertical-align: top;\n",
       "    }\n",
       "\n",
       "    .dataframe thead th {\n",
       "        text-align: right;\n",
       "    }\n",
       "</style>\n",
       "<table border=\"1\" class=\"dataframe\">\n",
       "  <thead>\n",
       "    <tr style=\"text-align: right;\">\n",
       "      <th></th>\n",
       "      <th></th>\n",
       "      <th>count</th>\n",
       "    </tr>\n",
       "    <tr>\n",
       "      <th>num_var42</th>\n",
       "      <th>TARGET</th>\n",
       "      <th></th>\n",
       "    </tr>\n",
       "  </thead>\n",
       "  <tbody>\n",
       "    <tr>\n",
       "      <th rowspan=\"2\" valign=\"top\">0</th>\n",
       "      <th>0</th>\n",
       "      <td>20093</td>\n",
       "    </tr>\n",
       "    <tr>\n",
       "      <th>1</th>\n",
       "      <td>1815</td>\n",
       "    </tr>\n",
       "    <tr>\n",
       "      <th rowspan=\"2\" valign=\"top\">3</th>\n",
       "      <th>0</th>\n",
       "      <td>50897</td>\n",
       "    </tr>\n",
       "    <tr>\n",
       "      <th>1</th>\n",
       "      <td>1167</td>\n",
       "    </tr>\n",
       "    <tr>\n",
       "      <th rowspan=\"2\" valign=\"top\">6</th>\n",
       "      <th>0</th>\n",
       "      <td>1987</td>\n",
       "    </tr>\n",
       "    <tr>\n",
       "      <th>1</th>\n",
       "      <td>25</td>\n",
       "    </tr>\n",
       "    <tr>\n",
       "      <th rowspan=\"2\" valign=\"top\">9</th>\n",
       "      <th>0</th>\n",
       "      <td>30</td>\n",
       "    </tr>\n",
       "    <tr>\n",
       "      <th>1</th>\n",
       "      <td>1</td>\n",
       "    </tr>\n",
       "    <tr>\n",
       "      <th>12</th>\n",
       "      <th>0</th>\n",
       "      <td>3</td>\n",
       "    </tr>\n",
       "    <tr>\n",
       "      <th>15</th>\n",
       "      <th>0</th>\n",
       "      <td>1</td>\n",
       "    </tr>\n",
       "    <tr>\n",
       "      <th>18</th>\n",
       "      <th>0</th>\n",
       "      <td>1</td>\n",
       "    </tr>\n",
       "  </tbody>\n",
       "</table>\n",
       "</div>"
      ],
      "text/plain": [
       "                  count\n",
       "num_var42 TARGET       \n",
       "0         0       20093\n",
       "          1        1815\n",
       "3         0       50897\n",
       "          1        1167\n",
       "6         0        1987\n",
       "          1          25\n",
       "9         0          30\n",
       "          1           1\n",
       "12        0           3\n",
       "15        0           1\n",
       "18        0           1"
      ]
     },
     "execution_count": 47,
     "metadata": {},
     "output_type": "execute_result"
    }
   ],
   "source": [
    "print(\"number of unique values: \", train.num_var42.nunique())\n",
    "\n",
    "a = train[['num_var42','TARGET','count']].groupby(['num_var42','TARGET']).count()\n",
    "a"
   ]
  },
  {
   "cell_type": "code",
   "execution_count": 48,
   "metadata": {},
   "outputs": [
    {
     "data": {
      "text/html": [
       "<div>\n",
       "<style scoped>\n",
       "    .dataframe tbody tr th:only-of-type {\n",
       "        vertical-align: middle;\n",
       "    }\n",
       "\n",
       "    .dataframe tbody tr th {\n",
       "        vertical-align: top;\n",
       "    }\n",
       "\n",
       "    .dataframe thead th {\n",
       "        text-align: right;\n",
       "    }\n",
       "</style>\n",
       "<table border=\"1\" class=\"dataframe\">\n",
       "  <thead>\n",
       "    <tr style=\"text-align: right;\">\n",
       "      <th></th>\n",
       "      <th></th>\n",
       "      <th>count</th>\n",
       "      <th>ratio</th>\n",
       "    </tr>\n",
       "    <tr>\n",
       "      <th>num_var42</th>\n",
       "      <th>TARGET</th>\n",
       "      <th></th>\n",
       "      <th></th>\n",
       "    </tr>\n",
       "  </thead>\n",
       "  <tbody>\n",
       "    <tr>\n",
       "      <th rowspan=\"2\" valign=\"top\">0</th>\n",
       "      <th>0</th>\n",
       "      <td>20093</td>\n",
       "      <td>0.917154</td>\n",
       "    </tr>\n",
       "    <tr>\n",
       "      <th>1</th>\n",
       "      <td>1815</td>\n",
       "      <td>0.082846</td>\n",
       "    </tr>\n",
       "    <tr>\n",
       "      <th rowspan=\"2\" valign=\"top\">3</th>\n",
       "      <th>0</th>\n",
       "      <td>50897</td>\n",
       "      <td>0.977585</td>\n",
       "    </tr>\n",
       "    <tr>\n",
       "      <th>1</th>\n",
       "      <td>1167</td>\n",
       "      <td>0.022415</td>\n",
       "    </tr>\n",
       "    <tr>\n",
       "      <th rowspan=\"2\" valign=\"top\">6</th>\n",
       "      <th>0</th>\n",
       "      <td>1987</td>\n",
       "      <td>0.967742</td>\n",
       "    </tr>\n",
       "    <tr>\n",
       "      <th>1</th>\n",
       "      <td>25</td>\n",
       "      <td>0.012425</td>\n",
       "    </tr>\n",
       "    <tr>\n",
       "      <th rowspan=\"2\" valign=\"top\">9</th>\n",
       "      <th>0</th>\n",
       "      <td>30</td>\n",
       "      <td>1.000000</td>\n",
       "    </tr>\n",
       "    <tr>\n",
       "      <th>1</th>\n",
       "      <td>1</td>\n",
       "      <td>0.032258</td>\n",
       "    </tr>\n",
       "    <tr>\n",
       "      <th>12</th>\n",
       "      <th>0</th>\n",
       "      <td>3</td>\n",
       "      <td>1.000000</td>\n",
       "    </tr>\n",
       "    <tr>\n",
       "      <th>15</th>\n",
       "      <th>0</th>\n",
       "      <td>1</td>\n",
       "      <td>1.000000</td>\n",
       "    </tr>\n",
       "    <tr>\n",
       "      <th>18</th>\n",
       "      <th>0</th>\n",
       "      <td>1</td>\n",
       "      <td>1.000000</td>\n",
       "    </tr>\n",
       "  </tbody>\n",
       "</table>\n",
       "</div>"
      ],
      "text/plain": [
       "                  count     ratio\n",
       "num_var42 TARGET                 \n",
       "0         0       20093  0.917154\n",
       "          1        1815  0.082846\n",
       "3         0       50897  0.977585\n",
       "          1        1167  0.022415\n",
       "6         0        1987  0.967742\n",
       "          1          25  0.012425\n",
       "9         0          30  1.000000\n",
       "          1           1  0.032258\n",
       "12        0           3  1.000000\n",
       "15        0           1  1.000000\n",
       "18        0           1  1.000000"
      ]
     },
     "execution_count": 48,
     "metadata": {},
     "output_type": "execute_result"
    }
   ],
   "source": [
    "a['ratio'] = 1\n",
    "\n",
    "a.loc[(0,0),'ratio'] = a.loc[(0,0),'count'] / (a.loc[(0,0),'count']+a.loc[(0,1),'count'])\n",
    "a.loc[(0,1),'ratio'] = a.loc[(0,1),'count'] / (a.loc[(0,0),'count']+a.loc[(0,1),'count'])\n",
    "\n",
    "a.loc[(3,0),'ratio'] = a.loc[(3,0),'count'] / (a.loc[(3,0),'count']+a.loc[(3,1),'count'])\n",
    "a.loc[(3,1),'ratio'] = a.loc[(3,1),'count'] / (a.loc[(3,0),'count']+a.loc[(3,1),'count'])\n",
    "\n",
    "a.loc[(6,0),'ratio'] = a.loc[(6,0),'count'] / (a.loc[(6,0),'count']+a.loc[(6,1),'count'])\n",
    "a.loc[(6,1),'ratio'] = a.loc[(6,1),'count'] / (a.loc[(6,0),'count']+a.loc[(6,1),'count'])\n",
    "\n",
    "a.loc[(6,0),'ratio'] = a.loc[(9,0),'count'] / (a.loc[(9,0),'count']+a.loc[(9,1),'count'])\n",
    "a.loc[(9,1),'ratio'] = a.loc[(9,1),'count'] / (a.loc[(9,0),'count']+a.loc[(9,1),'count'])\n",
    "\n",
    "a"
   ]
  },
  {
   "cell_type": "markdown",
   "metadata": {},
   "source": [
    "### Unsatisfied customers more likely num_var42=0"
   ]
  },
  {
   "cell_type": "code",
   "execution_count": 49,
   "metadata": {},
   "outputs": [
    {
     "name": "stdout",
     "output_type": "stream",
     "text": [
      "num_var42     0      3     6   9   12  15  18\n",
      "TARGET                                       \n",
      "0          20093  50897  1987  30   3   1   1\n",
      "1           1815   1167    25   1   0   0   0\n"
     ]
    },
    {
     "data": {
      "image/png": "[encoded data removed]",
      "text/plain": [
       "<Figure size 360x288 with 1 Axes>"
      ]
     },
     "metadata": {
      "needs_background": "light"
     },
     "output_type": "display_data"
    }
   ],
   "source": [
    "the_feature = 'num_var42'\n",
    "\n",
    "# Using Crosstab\n",
    "\n",
    "aa = train[[the_feature,'TARGET','count']]\n",
    "\n",
    "print(pd.crosstab(aa.TARGET,aa[the_feature]))\n",
    "\n",
    "\n",
    "#Binary Distribution Histogram\n",
    "\n",
    "plt.figure(figsize=[5,4])\n",
    "\n",
    "plt.hist([train[train.TARGET==0][the_feature],\n",
    "          train[train.TARGET==1][the_feature]], \n",
    "          #bins=[-.5,.5,.5,1.5], \n",
    "          ec=\"k\",\n",
    "          label=('happy','unhappy'))\n",
    "\n",
    "plt.xticks((0,3,6))\n",
    "plt.grid(axis='y', alpha=0.75)\n",
    "\n",
    "plt.xlabel('num_var42',fontsize=15)\n",
    "plt.ylabel('count',fontsize=15)\n",
    "\n",
    "plt.title('Binary Distribution Histogram',fontsize=15)\n",
    "plt.legend(loc='upper right')\n",
    "\n",
    "plt.grid(axis='y', alpha=0.75)\n",
    "\n",
    "plt.savefig('plots/num_var42.png', dpi=100, bbox_inches='tight')\n",
    "\n",
    "plt.show()"
   ]
  },
  {
   "cell_type": "markdown",
   "metadata": {},
   "source": [
    "## <span style=\"color:blue\"> 10. saldo_var30</span>"
   ]
  },
  {
   "cell_type": "code",
   "execution_count": 50,
   "metadata": {},
   "outputs": [
    {
     "name": "stdout",
     "output_type": "stream",
     "text": [
      "10.feature:  saldo_var30\n"
     ]
    }
   ],
   "source": [
    "print(\"10.feature: \", features[9])"
   ]
  },
  {
   "cell_type": "code",
   "execution_count": 51,
   "metadata": {},
   "outputs": [
    {
     "name": "stdout",
     "output_type": "stream",
     "text": [
      "number of unique values:  16940\n"
     ]
    }
   ],
   "source": [
    "print(\"number of unique values: \", train.saldo_var30.nunique())"
   ]
  },
  {
   "cell_type": "code",
   "execution_count": 52,
   "metadata": {},
   "outputs": [
    {
     "data": {
      "image/png": "[encoded data removed]",
      "text/plain": [
       "<Figure size 432x288 with 1 Axes>"
      ]
     },
     "metadata": {
      "needs_background": "light"
     },
     "output_type": "display_data"
    }
   ],
   "source": [
    "# Distribution Plot\n",
    "\n",
    "train.saldo_var30.hist(bins=1000)\n",
    "plt.xlim(0, train.saldo_var30.max()/7);\n",
    "plt.ylim(0, 100);"
   ]
  },
  {
   "cell_type": "code",
   "execution_count": 53,
   "metadata": {},
   "outputs": [],
   "source": [
    "# improve the plot by making the x axis logarithmic\n",
    "train.saldo_var30 = train.saldo_var30 + 0.0001\n",
    "train['log_saldo_var30'] = train.saldo_var30.map(np.log)"
   ]
  },
  {
   "cell_type": "code",
   "execution_count": 54,
   "metadata": {},
   "outputs": [
    {
     "data": {
      "image/png": "[encoded data removed]",
      "text/plain": [
       "<Figure size 337.675x288 with 1 Axes>"
      ]
     },
     "metadata": {
      "needs_background": "light"
     },
     "output_type": "display_data"
    }
   ],
   "source": [
    "# Let's look at the density of happy/unhappy customers for saldo_var30\n",
    "\n",
    "sns.FacetGrid(train, hue=\"TARGET\", size=4) \\\n",
    "   .map(sns.kdeplot, \"log_saldo_var30\") \\\n",
    "   .add_legend();\n",
    "\n",
    "plt.savefig('plots/log_saldo_var30.png', dpi=100, bbox_inches='tight')"
   ]
  },
  {
   "cell_type": "markdown",
   "metadata": {},
   "source": [
    "### Unsatisfied customers more likely log_saldo_var30<-5"
   ]
  },
  {
   "cell_type": "markdown",
   "metadata": {},
   "source": [
    "## <span style=\"color:blue\"> 11. var36</span>"
   ]
  },
  {
   "cell_type": "code",
   "execution_count": 55,
   "metadata": {},
   "outputs": [
    {
     "name": "stdout",
     "output_type": "stream",
     "text": [
      "11.feature:  var36\n"
     ]
    }
   ],
   "source": [
    "print(\"11.feature: \", features[10])"
   ]
  },
  {
   "cell_type": "code",
   "execution_count": 56,
   "metadata": {},
   "outputs": [
    {
     "name": "stdout",
     "output_type": "stream",
     "text": [
      "number of unique values:  5\n"
     ]
    },
    {
     "data": {
      "text/html": [
       "<div>\n",
       "<style scoped>\n",
       "    .dataframe tbody tr th:only-of-type {\n",
       "        vertical-align: middle;\n",
       "    }\n",
       "\n",
       "    .dataframe tbody tr th {\n",
       "        vertical-align: top;\n",
       "    }\n",
       "\n",
       "    .dataframe thead th {\n",
       "        text-align: right;\n",
       "    }\n",
       "</style>\n",
       "<table border=\"1\" class=\"dataframe\">\n",
       "  <thead>\n",
       "    <tr style=\"text-align: right;\">\n",
       "      <th></th>\n",
       "      <th></th>\n",
       "      <th>count</th>\n",
       "    </tr>\n",
       "    <tr>\n",
       "      <th>var36</th>\n",
       "      <th>TARGET</th>\n",
       "      <th></th>\n",
       "    </tr>\n",
       "  </thead>\n",
       "  <tbody>\n",
       "    <tr>\n",
       "      <th>0</th>\n",
       "      <th>0</th>\n",
       "      <td>411</td>\n",
       "    </tr>\n",
       "    <tr>\n",
       "      <th rowspan=\"2\" valign=\"top\">1</th>\n",
       "      <th>0</th>\n",
       "      <td>14203</td>\n",
       "    </tr>\n",
       "    <tr>\n",
       "      <th>1</th>\n",
       "      <td>461</td>\n",
       "    </tr>\n",
       "    <tr>\n",
       "      <th rowspan=\"2\" valign=\"top\">2</th>\n",
       "      <th>0</th>\n",
       "      <td>8463</td>\n",
       "    </tr>\n",
       "    <tr>\n",
       "      <th>1</th>\n",
       "      <td>241</td>\n",
       "    </tr>\n",
       "    <tr>\n",
       "      <th rowspan=\"2\" valign=\"top\">3</th>\n",
       "      <th>0</th>\n",
       "      <td>21809</td>\n",
       "    </tr>\n",
       "    <tr>\n",
       "      <th>1</th>\n",
       "      <td>368</td>\n",
       "    </tr>\n",
       "    <tr>\n",
       "      <th rowspan=\"2\" valign=\"top\">99</th>\n",
       "      <th>0</th>\n",
       "      <td>28126</td>\n",
       "    </tr>\n",
       "    <tr>\n",
       "      <th>1</th>\n",
       "      <td>1938</td>\n",
       "    </tr>\n",
       "  </tbody>\n",
       "</table>\n",
       "</div>"
      ],
      "text/plain": [
       "              count\n",
       "var36 TARGET       \n",
       "0     0         411\n",
       "1     0       14203\n",
       "      1         461\n",
       "2     0        8463\n",
       "      1         241\n",
       "3     0       21809\n",
       "      1         368\n",
       "99    0       28126\n",
       "      1        1938"
      ]
     },
     "execution_count": 56,
     "metadata": {},
     "output_type": "execute_result"
    }
   ],
   "source": [
    "print(\"number of unique values: \", train.var36.nunique())\n",
    "\n",
    "a = train[['var36','TARGET','count']].groupby(['var36','TARGET']).count()\n",
    "a"
   ]
  },
  {
   "cell_type": "markdown",
   "metadata": {},
   "source": [
    "var36 is most of the times 99 or [0,1,2,3]"
   ]
  },
  {
   "cell_type": "code",
   "execution_count": 57,
   "metadata": {},
   "outputs": [
    {
     "data": {
      "text/html": [
       "<div>\n",
       "<style scoped>\n",
       "    .dataframe tbody tr th:only-of-type {\n",
       "        vertical-align: middle;\n",
       "    }\n",
       "\n",
       "    .dataframe tbody tr th {\n",
       "        vertical-align: top;\n",
       "    }\n",
       "\n",
       "    .dataframe thead th {\n",
       "        text-align: right;\n",
       "    }\n",
       "</style>\n",
       "<table border=\"1\" class=\"dataframe\">\n",
       "  <thead>\n",
       "    <tr style=\"text-align: right;\">\n",
       "      <th></th>\n",
       "      <th></th>\n",
       "      <th>count</th>\n",
       "      <th>ratio</th>\n",
       "    </tr>\n",
       "    <tr>\n",
       "      <th>var36</th>\n",
       "      <th>TARGET</th>\n",
       "      <th></th>\n",
       "      <th></th>\n",
       "    </tr>\n",
       "  </thead>\n",
       "  <tbody>\n",
       "    <tr>\n",
       "      <th>0</th>\n",
       "      <th>0</th>\n",
       "      <td>411</td>\n",
       "      <td>1.000000</td>\n",
       "    </tr>\n",
       "    <tr>\n",
       "      <th rowspan=\"2\" valign=\"top\">1</th>\n",
       "      <th>0</th>\n",
       "      <td>14203</td>\n",
       "      <td>0.968562</td>\n",
       "    </tr>\n",
       "    <tr>\n",
       "      <th>1</th>\n",
       "      <td>461</td>\n",
       "      <td>0.031438</td>\n",
       "    </tr>\n",
       "    <tr>\n",
       "      <th rowspan=\"2\" valign=\"top\">2</th>\n",
       "      <th>0</th>\n",
       "      <td>8463</td>\n",
       "      <td>0.972312</td>\n",
       "    </tr>\n",
       "    <tr>\n",
       "      <th>1</th>\n",
       "      <td>241</td>\n",
       "      <td>0.027688</td>\n",
       "    </tr>\n",
       "    <tr>\n",
       "      <th rowspan=\"2\" valign=\"top\">3</th>\n",
       "      <th>0</th>\n",
       "      <td>21809</td>\n",
       "      <td>0.983406</td>\n",
       "    </tr>\n",
       "    <tr>\n",
       "      <th>1</th>\n",
       "      <td>368</td>\n",
       "      <td>0.016594</td>\n",
       "    </tr>\n",
       "    <tr>\n",
       "      <th rowspan=\"2\" valign=\"top\">99</th>\n",
       "      <th>0</th>\n",
       "      <td>28126</td>\n",
       "      <td>0.935538</td>\n",
       "    </tr>\n",
       "    <tr>\n",
       "      <th>1</th>\n",
       "      <td>1938</td>\n",
       "      <td>0.064462</td>\n",
       "    </tr>\n",
       "  </tbody>\n",
       "</table>\n",
       "</div>"
      ],
      "text/plain": [
       "              count     ratio\n",
       "var36 TARGET                 \n",
       "0     0         411  1.000000\n",
       "1     0       14203  0.968562\n",
       "      1         461  0.031438\n",
       "2     0        8463  0.972312\n",
       "      1         241  0.027688\n",
       "3     0       21809  0.983406\n",
       "      1         368  0.016594\n",
       "99    0       28126  0.935538\n",
       "      1        1938  0.064462"
      ]
     },
     "execution_count": 57,
     "metadata": {},
     "output_type": "execute_result"
    }
   ],
   "source": [
    "a['ratio'] = 1\n",
    "\n",
    "a.loc[(1,0),'ratio'] = a.loc[(1,0),'count'] / (a.loc[(1,0),'count']+a.loc[(1,1),'count'])\n",
    "a.loc[(1,1),'ratio'] = a.loc[(1,1),'count'] / (a.loc[(1,0),'count']+a.loc[(1,1),'count'])\n",
    "\n",
    "a.loc[(2,0),'ratio'] = a.loc[(2,0),'count'] / (a.loc[(2,0),'count']+a.loc[(2,1),'count'])\n",
    "a.loc[(2,1),'ratio'] = a.loc[(2,1),'count'] / (a.loc[(2,0),'count']+a.loc[(2,1),'count'])\n",
    "\n",
    "a.loc[(3,0),'ratio'] = a.loc[(3,0),'count'] / (a.loc[(3,0),'count']+a.loc[(3,1),'count'])\n",
    "a.loc[(3,1),'ratio'] = a.loc[(3,1),'count'] / (a.loc[(3,0),'count']+a.loc[(3,1),'count'])\n",
    "\n",
    "a.loc[(99,0),'ratio'] = a.loc[(99,0),'count'] / (a.loc[(99,0),'count']+a.loc[(99,1),'count'])\n",
    "a.loc[(99,1),'ratio'] = a.loc[(99,1),'count'] / (a.loc[(99,0),'count']+a.loc[(99,1),'count'])\n",
    "\n",
    "a"
   ]
  },
  {
   "cell_type": "markdown",
   "metadata": {},
   "source": [
    "### Unsatisfied customers more likely var36=99 and var36=1"
   ]
  },
  {
   "cell_type": "code",
   "execution_count": 58,
   "metadata": {},
   "outputs": [
    {
     "name": "stdout",
     "output_type": "stream",
     "text": [
      "var36    0      1     2      3      99\n",
      "TARGET                                \n",
      "0       411  14203  8463  21809  28126\n",
      "1         0    461   241    368   1938\n"
     ]
    },
    {
     "data": {
      "image/png": "[encoded data removed]",
      "text/plain": [
       "<Figure size 360x288 with 1 Axes>"
      ]
     },
     "metadata": {
      "needs_background": "light"
     },
     "output_type": "display_data"
    }
   ],
   "source": [
    "the_feature = 'var36'\n",
    "\n",
    "# Using Crosstab\n",
    "\n",
    "aa = train[[the_feature,'TARGET','count']]\n",
    "\n",
    "print(pd.crosstab(aa.TARGET,aa[the_feature]))\n",
    "\n",
    "\n",
    "#Binary Distribution Histogram\n",
    "\n",
    "plt.figure(figsize=[5,4])\n",
    "\n",
    "plt.hist([train[train.TARGET==0][the_feature],\n",
    "          train[train.TARGET==1][the_feature]], \n",
    "          bins=[-.5,.5,1.5,2.5,3.5,98,100], \n",
    "          ec=\"k\",\n",
    "          label=('happy','unhappy'))\n",
    "\n",
    "plt.xticks((0,1,2,3,99))\n",
    "plt.grid(axis='y', alpha=0.75)\n",
    "\n",
    "plt.xlabel(the_feature,fontsize=15)\n",
    "plt.ylabel('count',fontsize=15)\n",
    "\n",
    "plt.title('Binary Distribution Histogram',fontsize=15)\n",
    "plt.legend(loc='upper right')\n",
    "\n",
    "plt.grid(axis='y', alpha=0.75)\n",
    "\n",
    "plt.savefig('plots/var36.png', dpi=100, bbox_inches='tight')\n",
    "\n",
    "plt.show()"
   ]
  },
  {
   "cell_type": "code",
   "execution_count": 59,
   "metadata": {},
   "outputs": [
    {
     "data": {
      "image/png": "[encoded data removed]",
      "text/plain": [
       "<Figure size 409.675x360 with 1 Axes>"
      ]
     },
     "metadata": {
      "needs_background": "light"
     },
     "output_type": "display_data"
    }
   ],
   "source": [
    "# Let's plot the density in function of the target variable\n",
    "\n",
    "sns.FacetGrid(train, hue=\"TARGET\", size=5).map(sns.kdeplot, \"var36\").add_legend()\n",
    "plt.title('If var36 is 0,1,2 or 3 => less unhappy customers',fontsize=15);\n",
    "\n",
    "plt.savefig('plots/var36.png', dpi=100, bbox_inches='tight')"
   ]
  }
 ],
 "metadata": {
  "kernelspec": {
   "display_name": "Python 3",
   "language": "python",
   "name": "python3"
  },
  "language_info": {
   "codemirror_mode": {
    "name": "ipython",
    "version": 3
   },
   "file_extension": ".py",
   "mimetype": "text/x-python",
   "name": "python",
   "nbconvert_exporter": "python",
   "pygments_lexer": "ipython3",
   "version": "3.7.3"
  },
  "toc": {
   "base_numbering": 1,
   "nav_menu": {},
   "number_sections": false,
   "sideBar": true,
   "skip_h1_title": false,
   "title_cell": "Table of Contents",
   "title_sidebar": "Contents",
   "toc_cell": false,
   "toc_position": {
    "height": "calc(100% - 180px)",
    "left": "10px",
    "top": "150px",
    "width": "277.594px"
   },
   "toc_section_display": true,
   "toc_window_display": true
  }
 },
 "nbformat": 4,
 "nbformat_minor": 4
}
